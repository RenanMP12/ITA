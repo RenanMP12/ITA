{
 "cells": [
  {
   "cell_type": "markdown",
   "metadata": {},
   "source": [
    "# Libraries"
   ]
  },
  {
   "cell_type": "code",
   "execution_count": 1,
   "metadata": {},
   "outputs": [],
   "source": [
    "import numpy as np\n",
    "import numpy.ma as ma\n",
    "import matplotlib.pyplot as plt"
   ]
  },
  {
   "cell_type": "markdown",
   "metadata": {},
   "source": [
    "# Functions"
   ]
  },
  {
   "cell_type": "code",
   "execution_count": 2,
   "metadata": {},
   "outputs": [],
   "source": [
    "def gaussian_quadrature(n):\n",
    "        # n: number of points\n",
    "        # w: weight \n",
    "        # x: point of integration\n",
    "        \n",
    "        if n == 1:\n",
    "            w = np.array([2])\n",
    "            x = np.array([0])\n",
    "        elif n == 2:\n",
    "            w = np.array([1, 1])\n",
    "            x = np.array([-1/np.sqrt(3), 1/np.sqrt(3)])\n",
    "        elif n == 3:\n",
    "            w = np.array([5/9, 8/9, 5/9])\n",
    "            x = np.array([-np.sqrt(3/5), 0, np.sqrt(3/5)])\n",
    "        elif n == 4:\n",
    "            w = np.array([ (18-np.sqrt(30))/36, (18+np.sqrt(30))/36, (18+np.sqrt(30))/36, (18-np.sqrt(30))/36 ])\n",
    "            x = np.array([ -np.sqrt(3/7 + 2/7*np.sqrt(6/5)), -np.sqrt(3/7 - 2/7*np.sqrt(6/5)), np.sqrt(3/7 - 2/7*np.sqrt(6/5)), np.sqrt(3/7 + 2/7*np.sqrt(6/5)) ])\n",
    "        \n",
    "        return x, w"
   ]
  },
  {
   "cell_type": "markdown",
   "metadata": {},
   "source": [
    "# Input data"
   ]
  },
  {
   "cell_type": "code",
   "execution_count": 3,
   "metadata": {},
   "outputs": [],
   "source": [
    "L = 1                             # Beam length    \n",
    "q = 100                           # load\n",
    "nel = 512                         # number of elements\n",
    "nnos = nel + 1                    # number of nodes   \n",
    "alldof = np.linspace(1, 1,2*nnos) # all degrees of freedom\n",
    "kg = np.zeros((2*nnos,2*nnos))    # global stiffness matrix pre-allocation\n",
    "I = 100                           # inertia\n",
    "E = 210e9                         # young's modulus   \n",
    "coord = np.zeros((nnos, 3))       # coordinate matrix pre-allocation\n",
    "inci = np.zeros((nel, 6))         # incidence matrix pre-allocation\n",
    "f = np.zeros((2*nnos, 1))         # external load vector"
   ]
  },
  {
   "cell_type": "markdown",
   "metadata": {},
   "source": [
    "# Coordinate matrix"
   ]
  },
  {
   "cell_type": "code",
   "execution_count": 4,
   "metadata": {},
   "outputs": [],
   "source": [
    "for i in range(0, nnos):\n",
    "    coord[i,0] = i + 1      # node number\n",
    "    coord[i,1] = i*L/nel    # node position\n",
    "    coord[i,2] = 0\n",
    "l = coord[1,1] - coord[0,1] # element length"
   ]
  },
  {
   "cell_type": "markdown",
   "metadata": {},
   "source": [
    "# Incidence matrix"
   ]
  },
  {
   "cell_type": "code",
   "execution_count": 5,
   "metadata": {},
   "outputs": [],
   "source": [
    "for i in range(0, nel):   \n",
    "    inci[i,0] = i + 1          # element number\n",
    "    inci[i,1] = i + 1          # first node\n",
    "    inci[i,2] = i + 2          # second node\n",
    "    inci[i,3] = coord[i,1]     # first node coordinate\n",
    "    inci[i,4] = coord[i+1,1]   # second node coordinate\n",
    "    inci[i,5] = I              # inertia of beam section"
   ]
  },
  {
   "cell_type": "markdown",
   "metadata": {},
   "source": [
    "# Boundary conditions"
   ]
  },
  {
   "cell_type": "code",
   "execution_count": 6,
   "metadata": {},
   "outputs": [],
   "source": [
    "#   bc=[node | degree of freedom | value]\n",
    "#\n",
    "#   Degree of freedom 1 --> y\n",
    "#   Degree of freedom 2 --> oz\n",
    "\n",
    "bc = np.array([[1,1,0],[1,2,0]])"
   ]
  },
  {
   "cell_type": "markdown",
   "metadata": {},
   "source": [
    "# Mask stiffness matrix"
   ]
  },
  {
   "cell_type": "code",
   "execution_count": 7,
   "metadata": {},
   "outputs": [],
   "source": [
    "mask = np.zeros((2*nnos,2*nnos))\n",
    "for i in range(0, np.size(bc,0)):\n",
    "    if bc[i,1] == 1:\n",
    "        mask[2*bc[i,0]-2,2*bc[i,0]-2] = 1\n",
    "    elif bc[i,1] == 2:\n",
    "        mask[2*bc[i,0]-1,2*bc[i,0]-1] = 1\n",
    "mask = ma.masked_equal(mask, 1)\n",
    "mask = ma.mask_rowcols(mask)\n",
    "mask = (mask==False)"
   ]
  },
  {
   "cell_type": "markdown",
   "metadata": {},
   "source": [
    "# Mask load vector"
   ]
  },
  {
   "cell_type": "code",
   "execution_count": 8,
   "metadata": {},
   "outputs": [],
   "source": [
    "maskv = np.zeros(2*nnos)\n",
    "for i in range(0, np.size(bc,0)):\n",
    "    if bc[i,1] == 1:\n",
    "        maskv[2*bc[i,0]-2] = 1\n",
    "    elif bc[i,1] == 2:\n",
    "        maskv[2*bc[i,0]-1] = 1\n",
    "maskv = ma.masked_equal(maskv, 1)\n",
    "maskv = (maskv==False)"
   ]
  },
  {
   "cell_type": "markdown",
   "metadata": {},
   "source": [
    "#  Load vector"
   ]
  },
  {
   "cell_type": "code",
   "execution_count": 9,
   "metadata": {},
   "outputs": [],
   "source": [
    "#   F = [node | degree of freedom | value]\n",
    "#\n",
    "#   Degree of freedom 1 --> Fy\n",
    "#   Degree of freedom 2 --> Mz\n",
    "def Q(x, q, L):\n",
    "    Q = q + 3/4*q/L**2*x**2 - 7/4*q/L*x\n",
    "    return Q\n",
    "\n",
    "def phi(x, L):\n",
    "    phi = np.array([[2*x**3/L**3 - 3*x**2/L**2 + 1], [x - 2*x**2/L + x**3/L**2], [3*x**2/L**2 - 2*x**3/L**3], [x**3/L**2 - x**2/L]])\n",
    "    return phi\n",
    "\n",
    "\n",
    "n = 3\n",
    "x,w = gaussian_quadrature(n)\n",
    "fg = np.zeros((2*nnos,1))\n",
    "\n",
    "for i in range(nel):\n",
    "    node1 = inci[i,1]  # first node element\n",
    "    node2 = inci[i,2]  # second node element\n",
    "\n",
    "    loc = [2*node1-2,2*node1-1,2*node2-2,2*node2-1]\n",
    "\n",
    "    coord1 = coord[int(node1) - 1, 1] # node 1 position\n",
    "    coord2 = coord[int(node2) - 1, 1] # node 2 position\n",
    "\n",
    "    fe = np.zeros((4,1))   # local load vector \n",
    "\n",
    "    Q_ = 0\n",
    "    for j in range(n):\n",
    "\n",
    "        epsilon = (coord2 - coord1)/2*x[j] + (coord2 + coord1)/2     \n",
    "        fe = fe + ((coord2 - coord1)/2)*Q(epsilon  , q, L)*phi(epsilon, L)*w[j] \n",
    "    \n",
    "    fg[[int(loc[0]),int(loc[1]),int(loc[2]),int(loc[3])]] = fg[[int(loc[0]),int(loc[1]),int(loc[2]),int(loc[3])]] + fe"
   ]
  },
  {
   "cell_type": "markdown",
   "metadata": {},
   "source": [
    "# Global matrix assembly"
   ]
  },
  {
   "cell_type": "code",
   "execution_count": 10,
   "metadata": {},
   "outputs": [],
   "source": [
    "for i in range(nel):\n",
    "    node1 = inci[i,1] # first node element\n",
    "    node2 = inci[i,2] # second node element\n",
    "    \n",
    "    # local stiffness matrix\n",
    "    inertia = inci[i,5]\n",
    "    ke = E*inertia/l**3*np.array([[12, 6*l, -12, 6*l], [6*l, 4*l**2, -6*l, 2*l**2], [-12, -6*l, 12, -6*l],  [6*l, 2*l**2, -6*l, 4*l**2]])\n",
    "    \n",
    "    # localization vector\n",
    "    loc = [2*node1-2,2*node1-1,2*node2-2,2*node2-1]\n",
    "    \n",
    "    # global stiffness matrix \n",
    "    kg[[[int(loc[0])],[int(loc[1])],[int(loc[2])], [int(loc[3])]], [int(loc[0]),int(loc[1]),int(loc[2]),int(loc[3])]] = kg[[[int(loc[0])],[int(loc[1])],[int(loc[2])], [int(loc[3])]], [int(loc[0]),int(loc[1]),int(loc[2]),int(loc[3])]] +  ke\n",
    "    \n",
    "kg_aux = kg[mask.data]\n",
    "kg_aux = np.reshape(kg_aux, (2*nnos-np.size(bc,0), 2*nnos-np.size(bc,0)))\n",
    "f_aux  = fg[maskv.data]"
   ]
  },
  {
   "cell_type": "markdown",
   "metadata": {},
   "source": [
    "# Displacement"
   ]
  },
  {
   "cell_type": "code",
   "execution_count": 11,
   "metadata": {},
   "outputs": [],
   "source": [
    "u = np.zeros((2*nnos, 1))\n",
    "u[maskv.data] = np.linalg.solve(kg_aux, f_aux)\n",
    "u_ = np.reshape(u,(nnos,2))\n",
    "displacement = u_[:,0]\n",
    "rotation = u_[:,1]"
   ]
  },
  {
   "cell_type": "markdown",
   "metadata": {},
   "source": [
    "# Post-processing"
   ]
  },
  {
   "cell_type": "code",
   "execution_count": 13,
   "metadata": {},
   "outputs": [
    {
     "data": {
      "image/png": "[encoded data removed]",
      "text/plain": [
       "<Figure size 864x504 with 1 Axes>"
      ]
     },
     "metadata": {
      "needs_background": "light"
     },
     "output_type": "display_data"
    }
   ],
   "source": [
    "coord[:,2] = displacement\n",
    "fig, ax = plt.subplots(figsize = (12, 7))\n",
    "\n",
    "plt.plot(coord[:,1],coord[:,2])\n",
    "plt.xlim([0,1])\n",
    "plt.grid(b=True, which='major', color='k', linestyle='--')\n",
    "fig.savefig('fem_lista_2_Q4.png',dpi=300)                              # save figure as png (dpi = number of pixels)"
   ]
  },
  {
   "cell_type": "code",
   "execution_count": null,
   "metadata": {},
   "outputs": [],
   "source": []
  }
 ],
 "metadata": {
  "kernelspec": {
   "display_name": "Python 3",
   "language": "python",
   "name": "python3"
  },
  "language_info": {
   "codemirror_mode": {
    "name": "ipython",
    "version": 3
   },
   "file_extension": ".py",
   "mimetype": "text/x-python",
   "name": "python",
   "nbconvert_exporter": "python",
   "pygments_lexer": "ipython3",
   "version": "3.7.6"
  }
 },
 "nbformat": 4,
 "nbformat_minor": 4
}
