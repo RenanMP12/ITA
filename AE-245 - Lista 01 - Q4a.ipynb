{
 "cells": [
  {
   "cell_type": "markdown",
   "metadata": {},
   "source": [
    "# Bibliotecas"
   ]
  },
  {
   "cell_type": "code",
   "execution_count": 1,
   "metadata": {},
   "outputs": [],
   "source": [
    "import sympy as sym\n",
    "import numpy as np\n",
    "import matplotlib.pyplot as plt\n",
    "%matplotlib inline"
   ]
  },
  {
   "cell_type": "markdown",
   "metadata": {},
   "source": [
    "## DECLARA SIMBOLOS"
   ]
  },
  {
   "cell_type": "code",
   "execution_count": 2,
   "metadata": {},
   "outputs": [],
   "source": [
    "x1, L, E, I1, I2, P, C1, C2, C3, C4, C5, C6, C7, C8 = sym.symbols('x1 L E I1 I2 P C1 C2 C3 C4 C5 C6 C7 C8')"
   ]
  },
  {
   "cell_type": "markdown",
   "metadata": {},
   "source": [
    "## POLINOMIOS DE 3º GRAU"
   ]
  },
  {
   "cell_type": "code",
   "execution_count": 3,
   "metadata": {},
   "outputs": [],
   "source": [
    "y1 = C1 + C2*x1 + C3*x1**2 + C4*x1**3"
   ]
  },
  {
   "cell_type": "markdown",
   "metadata": {},
   "source": [
    "## APLICA CONDIÇÃO DE CONTORNO y(0) = 0 PARA OBTER C1"
   ]
  },
  {
   "cell_type": "code",
   "execution_count": 4,
   "metadata": {},
   "outputs": [],
   "source": [
    "C1_ = sym.solve(y1.subs(x1,0), C1)[0]\n",
    "y1 = y1.subs(C1,C1_)"
   ]
  },
  {
   "cell_type": "markdown",
   "metadata": {},
   "source": [
    "## APLICA CONDIÇÃO DE CONTORNO y(L) = 0 PARA OBTER C2"
   ]
  },
  {
   "cell_type": "code",
   "execution_count": 5,
   "metadata": {},
   "outputs": [],
   "source": [
    "C2_ = sym.solve(y1.subs(x1,L),C2)[0]\n",
    "y1 = y1.subs(C2,C2_)"
   ]
  },
  {
   "cell_type": "markdown",
   "metadata": {},
   "source": [
    "## SEGUNDA DERIVADA DE y"
   ]
  },
  {
   "cell_type": "code",
   "execution_count": 6,
   "metadata": {},
   "outputs": [],
   "source": [
    "ddy1 = y1.diff(x1,x1)"
   ]
  },
  {
   "cell_type": "markdown",
   "metadata": {},
   "source": [
    "## ENERGIA"
   ]
  },
  {
   "cell_type": "code",
   "execution_count": 7,
   "metadata": {},
   "outputs": [],
   "source": [
    "en = sym.integrate((E*I1*ddy1**2)/2, (x1, 0, L/2)) + sym.integrate((E*I2*ddy1**2)/2, (x1, L/2, L)) - P*y1.subs(x1,L/2)"
   ]
  },
  {
   "cell_type": "markdown",
   "metadata": {},
   "source": [
    "## RESOLVER SISTEMA PARA ENCONTRAR C3 E C4"
   ]
  },
  {
   "cell_type": "code",
   "execution_count": 8,
   "metadata": {},
   "outputs": [],
   "source": [
    "C3_, C4_ = sym.solve((en.diff(C3), en.diff(C4)), C3, C4).values()"
   ]
  },
  {
   "cell_type": "markdown",
   "metadata": {},
   "source": [
    "## EQUAÇÃO DA LINHA ELASTICA FINAL"
   ]
  },
  {
   "cell_type": "code",
   "execution_count": 9,
   "metadata": {},
   "outputs": [
    {
     "data": {
      "text/latex": [
       "$\\displaystyle \\frac{P x_{1} \\left(L^{2} \\left(I_{1} + 3 I_{2}\\right) + L x_{1} \\left(I_{1} - 5 I_{2}\\right) - 2 x_{1}^{2} \\left(I_{1} - I_{2}\\right)\\right)}{4 E \\left(I_{1}^{2} + 14 I_{1} I_{2} + I_{2}^{2}\\right)}$"
      ],
      "text/plain": [
       "P*x1*(L**2*(I1 + 3*I2) + L*x1*(I1 - 5*I2) - 2*x1**2*(I1 - I2))/(4*E*(I1**2 + 14*I1*I2 + I2**2))"
      ]
     },
     "execution_count": 9,
     "metadata": {},
     "output_type": "execute_result"
    }
   ],
   "source": [
    "y1 = y1.subs([(C3,C3_), (C4,C4_)]).simplify()\n",
    "y1"
   ]
  },
  {
   "cell_type": "markdown",
   "metadata": {},
   "source": [
    "## VALIDA SE TODAS AS CONDIÇÕES DE CONTORNO FORAM SATISFEITAS"
   ]
  },
  {
   "cell_type": "code",
   "execution_count": 10,
   "metadata": {},
   "outputs": [
    {
     "name": "stdout",
     "output_type": "stream",
     "text": [
      "y(0) = 0:  True\n",
      "y(L) = 0:  True\n"
     ]
    }
   ],
   "source": [
    "print(\"y(0) = 0: \", y1.subs(x1,0).simplify() == 0)\n",
    "print(\"y(L) = 0: \", y1.subs(x1,L).simplify() == 0)"
   ]
  },
  {
   "cell_type": "markdown",
   "metadata": {},
   "source": [
    "## PLOT"
   ]
  },
  {
   "cell_type": "code",
   "execution_count": 11,
   "metadata": {},
   "outputs": [
    {
     "data": {
      "image/png": "[encoded data removed]",
      "text/plain": [
       "<Figure size 432x288 with 1 Axes>"
      ]
     },
     "metadata": {
      "needs_background": "light"
     },
     "output_type": "display_data"
    }
   ],
   "source": [
    "x_range = np.arange(0.0, 1.01, 0.01)\n",
    "x_1 = list()\n",
    "y_1 = list()\n",
    "\n",
    "for i in x_range:\n",
    "    value = y1.subs([(x1, i), (E,5), (L,1), (I1,200), (I2, 50), (P,-100)])\n",
    "    x_1.append(i)\n",
    "    y_1.append(value)\n",
    "\n",
    "plt.xlim([0, 1])\n",
    "plt.ylim([-0.006, 0])\n",
    "plt.plot(x_1, y_1)\n",
    "plt.legend([\"$y_1(x_1) = C_{1} + C_{2} x_{1} + C_{3} x_{1}^{2} + C_{4} x_{1}^{3}$\"])\n",
    "plt.grid()"
   ]
  },
  {
   "cell_type": "code",
   "execution_count": null,
   "metadata": {},
   "outputs": [],
   "source": []
  }
 ],
 "metadata": {
  "kernelspec": {
   "display_name": "Python 3",
   "language": "python",
   "name": "python3"
  },
  "language_info": {
   "codemirror_mode": {
    "name": "ipython",
    "version": 3
   },
   "file_extension": ".py",
   "mimetype": "text/x-python",
   "name": "python",
   "nbconvert_exporter": "python",
   "pygments_lexer": "ipython3",
   "version": "3.7.6"
  }
 },
 "nbformat": 4,
 "nbformat_minor": 4
}
