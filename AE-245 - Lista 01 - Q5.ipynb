{
 "cells": [
  {
   "cell_type": "markdown",
   "metadata": {},
   "source": [
    "# Bibliotecas"
   ]
  },
  {
   "cell_type": "code",
   "execution_count": 1,
   "metadata": {},
   "outputs": [],
   "source": [
    "from sympy import *\n",
    "import numpy as np\n",
    "import matplotlib.pyplot as plt\n",
    "%matplotlib inline"
   ]
  },
  {
   "cell_type": "markdown",
   "metadata": {},
   "source": [
    "## DECLARA SIMBOLOS"
   ]
  },
  {
   "cell_type": "code",
   "execution_count": 2,
   "metadata": {},
   "outputs": [],
   "source": [
    "x, y, C1, C2, C3, C4 = symbols('x y C1 C2 C3 C4')"
   ]
  },
  {
   "cell_type": "markdown",
   "metadata": {},
   "source": [
    "## POLINOMIOS DE 2º GRAU"
   ]
  },
  {
   "cell_type": "code",
   "execution_count": 3,
   "metadata": {},
   "outputs": [],
   "source": [
    "y = C1 + C2*x + C3*x**2"
   ]
  },
  {
   "cell_type": "markdown",
   "metadata": {},
   "source": [
    "## APLICA CONDIÇÃO DE CONTORNO y(0) = 0 PARA OBTER C1"
   ]
  },
  {
   "cell_type": "code",
   "execution_count": 4,
   "metadata": {},
   "outputs": [],
   "source": [
    "C1_ = solve(y.subs(x,0), C1)[0]\n",
    "y = y.subs(C1,C1_)"
   ]
  },
  {
   "cell_type": "markdown",
   "metadata": {},
   "source": [
    "## APLICA CONDIÇÃO DE CONTORNO y(1) = 0 PARA OBTER C2"
   ]
  },
  {
   "cell_type": "code",
   "execution_count": 5,
   "metadata": {},
   "outputs": [],
   "source": [
    "C2_ = solve(y.subs(x,1),C2)[0]\n",
    "y = y.subs(C2,C2_)"
   ]
  },
  {
   "cell_type": "markdown",
   "metadata": {},
   "source": [
    "## PRIMEIRA DERIVADA DE y"
   ]
  },
  {
   "cell_type": "code",
   "execution_count": 6,
   "metadata": {},
   "outputs": [],
   "source": [
    "dy = y.diff(x)"
   ]
  },
  {
   "cell_type": "markdown",
   "metadata": {},
   "source": [
    "## ENERGIA"
   ]
  },
  {
   "cell_type": "code",
   "execution_count": 7,
   "metadata": {},
   "outputs": [],
   "source": [
    "I = integrate(1/2*dy**2 - 1/2*y**2 - x*y, (x, 0, 1))"
   ]
  },
  {
   "cell_type": "markdown",
   "metadata": {},
   "source": [
    "## RESOLVER SISTEMA PARA ENCONTRAR C3"
   ]
  },
  {
   "cell_type": "code",
   "execution_count": 8,
   "metadata": {},
   "outputs": [],
   "source": [
    "syms = [I.diff(C3)]\n",
    "var = C3\n",
    "sol = solve(syms, var)\n",
    "C3_ = sol[C3]"
   ]
  },
  {
   "cell_type": "markdown",
   "metadata": {},
   "source": [
    "## EQUAÇÃO DA LINHA ELASTICA FINAL"
   ]
  },
  {
   "cell_type": "code",
   "execution_count": 9,
   "metadata": {},
   "outputs": [],
   "source": [
    "y2 = y.subs(C3,C3_)"
   ]
  },
  {
   "cell_type": "markdown",
   "metadata": {},
   "source": [
    "## VALIDA SE TODAS AS CONDIÇÕES DE CONTORNO FORAM SATISFEITAS"
   ]
  },
  {
   "cell_type": "code",
   "execution_count": 10,
   "metadata": {},
   "outputs": [
    {
     "name": "stdout",
     "output_type": "stream",
     "text": [
      "y(0) = 0:  True\n",
      "y(1) = 0:  True\n"
     ]
    }
   ],
   "source": [
    "print(\"y(0) = 0: \", y2.subs(x,0).simplify() == 0)\n",
    "print(\"y(1) = 0: \", y2.subs(x,1).simplify() == 0)"
   ]
  },
  {
   "cell_type": "markdown",
   "metadata": {},
   "source": [
    "## DECLARA SIMBOLOS"
   ]
  },
  {
   "cell_type": "code",
   "execution_count": 11,
   "metadata": {},
   "outputs": [],
   "source": [
    "x, y, C1, C2, C3, C4 = symbols('x y C1 C2 C3 C4')"
   ]
  },
  {
   "cell_type": "markdown",
   "metadata": {},
   "source": [
    "## POLINOMIOS DE 3º GRAU"
   ]
  },
  {
   "cell_type": "code",
   "execution_count": 12,
   "metadata": {},
   "outputs": [],
   "source": [
    "y = C1 + C2*x + C3*x**2 + C4*x**3"
   ]
  },
  {
   "cell_type": "markdown",
   "metadata": {},
   "source": [
    "## APLICA CONDIÇÃO DE CONTORNO y(0) = 0 PARA OBTER C1"
   ]
  },
  {
   "cell_type": "code",
   "execution_count": 13,
   "metadata": {},
   "outputs": [],
   "source": [
    "C1_ = solve(y.subs(x,0), C1)[0]\n",
    "y = y.subs(C1,C1_)"
   ]
  },
  {
   "cell_type": "markdown",
   "metadata": {},
   "source": [
    "## APLICA CONDIÇÃO DE CONTORNO y(1) = 0 PARA OBTER C2"
   ]
  },
  {
   "cell_type": "code",
   "execution_count": 14,
   "metadata": {},
   "outputs": [],
   "source": [
    "C2_ = solve(y.subs(x,1),C2)[0]\n",
    "y = y.subs(C2,C2_)"
   ]
  },
  {
   "cell_type": "markdown",
   "metadata": {},
   "source": [
    "## PRIMEIRA DERIVADA DE y"
   ]
  },
  {
   "cell_type": "code",
   "execution_count": 15,
   "metadata": {},
   "outputs": [],
   "source": [
    "dy = y.diff(x)"
   ]
  },
  {
   "cell_type": "markdown",
   "metadata": {},
   "source": [
    "## ENERGIA"
   ]
  },
  {
   "cell_type": "code",
   "execution_count": 16,
   "metadata": {},
   "outputs": [],
   "source": [
    "I = integrate(1/2*dy**2 - 1/2*y**2 - x*y, (x, 0, 1))"
   ]
  },
  {
   "cell_type": "markdown",
   "metadata": {},
   "source": [
    "## RESOLVER SISTEMA PARA ENCONTRAR C3 E C4"
   ]
  },
  {
   "cell_type": "code",
   "execution_count": 17,
   "metadata": {},
   "outputs": [],
   "source": [
    "syms = [I.diff(C3), I.diff(C4)]\n",
    "var = [C3, C4]\n",
    "sol = solve(syms, var)\n",
    "C3_ = sol[C3]\n",
    "C4_ = sol[C4]"
   ]
  },
  {
   "cell_type": "markdown",
   "metadata": {},
   "source": [
    "## EQUAÇÃO DA LINHA ELASTICA FINAL"
   ]
  },
  {
   "cell_type": "code",
   "execution_count": 18,
   "metadata": {},
   "outputs": [],
   "source": [
    "y3 = y.subs([(C3,C3_), (C4,C4_)])"
   ]
  },
  {
   "cell_type": "markdown",
   "metadata": {},
   "source": [
    "## VALIDA SE TODAS AS CONDIÇÕES DE CONTORNO FORAM SATISFEITAS"
   ]
  },
  {
   "cell_type": "code",
   "execution_count": 19,
   "metadata": {},
   "outputs": [
    {
     "name": "stdout",
     "output_type": "stream",
     "text": [
      "y(0) = 0:  True\n",
      "y(1) = 0:  True\n"
     ]
    }
   ],
   "source": [
    "print(\"y(0) = 0: \", y3.subs(x,0).simplify() == 0)\n",
    "print(\"y(1) = 0: \", y3.subs(x,1).simplify() == 0)"
   ]
  },
  {
   "cell_type": "markdown",
   "metadata": {},
   "source": [
    "## DECLARA SIMBOLOS"
   ]
  },
  {
   "cell_type": "code",
   "execution_count": 20,
   "metadata": {},
   "outputs": [],
   "source": [
    "x, A, B = symbols('x A B')"
   ]
  },
  {
   "cell_type": "markdown",
   "metadata": {},
   "source": [
    "## POLINOMIO SENOIDAL"
   ]
  },
  {
   "cell_type": "code",
   "execution_count": 21,
   "metadata": {},
   "outputs": [],
   "source": [
    "y = A*sin(x) + B*cos(x) - x"
   ]
  },
  {
   "cell_type": "markdown",
   "metadata": {},
   "source": [
    "## APLICA CONDIÇÃO DE CONTORNO y(0) = 0 PARA OBTER B"
   ]
  },
  {
   "cell_type": "code",
   "execution_count": 22,
   "metadata": {},
   "outputs": [],
   "source": [
    "B_ = solve(y.subs(x,0), B)[0]\n",
    "y = y.subs(B,B_)"
   ]
  },
  {
   "cell_type": "markdown",
   "metadata": {},
   "source": [
    "## APLICA CONDIÇÃO DE CONTORNO y(1) = 0 PARA OBTER A"
   ]
  },
  {
   "cell_type": "code",
   "execution_count": 23,
   "metadata": {},
   "outputs": [],
   "source": [
    "A_ = solve(y.subs(x,1), A)[0]\n",
    "y = y.subs(A,A_)"
   ]
  },
  {
   "cell_type": "markdown",
   "metadata": {},
   "source": [
    "## PRIMEIRA DERIVADA DE y"
   ]
  },
  {
   "cell_type": "code",
   "execution_count": 24,
   "metadata": {},
   "outputs": [],
   "source": [
    "dy = y.diff(x)"
   ]
  },
  {
   "cell_type": "markdown",
   "metadata": {},
   "source": [
    "## ENERGIA"
   ]
  },
  {
   "cell_type": "code",
   "execution_count": 25,
   "metadata": {},
   "outputs": [],
   "source": [
    "I = integrate(1/2*dy**2 - 1/2*y**2 - x*y, (x, 0, 1))"
   ]
  },
  {
   "cell_type": "markdown",
   "metadata": {},
   "source": [
    "## EQUAÇÃO DA LINHA ELASTICA FINAL"
   ]
  },
  {
   "cell_type": "code",
   "execution_count": 26,
   "metadata": {},
   "outputs": [],
   "source": [
    "y4 = y"
   ]
  },
  {
   "cell_type": "markdown",
   "metadata": {},
   "source": [
    "## VALIDA SE TODAS AS CONDIÇÕES DE CONTORNO FORAM SATISFEITAS"
   ]
  },
  {
   "cell_type": "code",
   "execution_count": 27,
   "metadata": {},
   "outputs": [
    {
     "name": "stdout",
     "output_type": "stream",
     "text": [
      "y(0) = 0:  True\n",
      "y(1) = 0:  True\n"
     ]
    }
   ],
   "source": [
    "print(\"y(0) = 0: \", y4.subs(x,0).simplify() == 0)\n",
    "print(\"y(1) = 0: \", y4.subs(x,1).simplify() == 0)"
   ]
  },
  {
   "cell_type": "markdown",
   "metadata": {},
   "source": [
    "## PLOT"
   ]
  },
  {
   "cell_type": "code",
   "execution_count": 28,
   "metadata": {},
   "outputs": [
    {
     "data": {
      "image/png": "[encoded data removed]",
      "text/plain": [
       "<Figure size 432x288 with 1 Axes>"
      ]
     },
     "metadata": {
      "needs_background": "light"
     },
     "output_type": "display_data"
    }
   ],
   "source": [
    "x_range = np.arange(0.0, 1.1, 0.01)\n",
    "\n",
    "x_2 = list()\n",
    "x_3 = list()\n",
    "x_4 = list()\n",
    "y_2 = list()\n",
    "y_3 = list()\n",
    "y_4 = list()\n",
    "\n",
    "for i in x_range:\n",
    "    x_2.append(i)\n",
    "    value2 = y2.subs([(x, i)])\n",
    "    y_2.append(value2)\n",
    "    \n",
    "for i in x_range:\n",
    "    x_3.append(i)\n",
    "    value3 = y3.subs([(x, i)])\n",
    "    y_3.append(value3)\n",
    "\n",
    "for i in x_range:\n",
    "    x_4.append(i)\n",
    "    value = y4.subs([(x, i)])\n",
    "    y_4.append(value)\n",
    "\n",
    "plt.plot(x_2, y_2)\n",
    "plt.plot(x_3, y_3)\n",
    "plt.plot(x_4, y_4)\n",
    "plt.xlim([0, 1])\n",
    "plt.ylim([0, 0.08])\n",
    "plt.legend([\"$y_2(x) = C_{1} + C_{2} x + C_{3} x^{2}$\", \"$y_3(x) = C_{1} + C_{2} x + C_{3} x^{2} + C_{4} x^{3}$\", \"$y_4(x) = A \\sin(x) + B \\cos(x) - x$\"])\n",
    "plt.grid()\n",
    "plt.show()"
   ]
  },
  {
   "cell_type": "code",
   "execution_count": 30,
   "metadata": {},
   "outputs": [
    {
     "data": {
      "image/png": "[encoded data removed]",
      "text/plain": [
       "<Figure size 432x288 with 1 Axes>"
      ]
     },
     "metadata": {
      "needs_background": "light"
     },
     "output_type": "display_data"
    }
   ],
   "source": [
    "plt.plot(x_2, y_2)\n",
    "plt.plot(x_2, y_3)\n",
    "plt.plot(x_2, y_4)\n",
    "plt.xlim([0.4, 0.6])\n",
    "plt.ylim([0.06, 0.08])\n",
    "plt.legend([\"$y_2(x) = C_{1} + C_{2} x + C_{3} x^{2}$\", \"$y_3(x) = C_{1} + C_{2} x + C_{3} x^{2} + C_{4} x^{3}$\", \"$y_4(x) = A \\sin(x) + B \\cos(x) - x$\"])\n",
    "plt.grid()"
   ]
  },
  {
   "cell_type": "markdown",
   "metadata": {},
   "source": [
    "## ENERGIA TOTAL"
   ]
  },
  {
   "cell_type": "code",
   "execution_count": 33,
   "metadata": {},
   "outputs": [
    {
     "data": {
      "text/latex": [
       "$\\displaystyle -0.333333333333333 + \\frac{0.5}{\\tan{\\left(1 \\right)}}$"
      ],
      "text/plain": [
       "-0.333333333333333 + 0.5/tan(1)"
      ]
     },
     "execution_count": 33,
     "metadata": {},
     "output_type": "execute_result"
    }
   ],
   "source": [
    "I2 = integrate(1/2*y2.diff(x)**2 - 1/2*y2**2 - x*y2, (x, 0, 1))\n",
    "I3 = integrate(1/2*y3.diff(x)**2 - 1/2*y3**2 - x*y3, (x, 0, 1))\n",
    "I4 = integrate(1/2*y4.diff(x)**2 - 1/2*y4**2 - x*y4, (x, 0, 1)).simplify()\n",
    "min(I2, I3, I4)"
   ]
  },
  {
   "cell_type": "code",
   "execution_count": null,
   "metadata": {},
   "outputs": [],
   "source": []
  }
 ],
 "metadata": {
  "kernelspec": {
   "display_name": "Python 3",
   "language": "python",
   "name": "python3"
  },
  "language_info": {
   "codemirror_mode": {
    "name": "ipython",
    "version": 3
   },
   "file_extension": ".py",
   "mimetype": "text/x-python",
   "name": "python",
   "nbconvert_exporter": "python",
   "pygments_lexer": "ipython3",
   "version": "3.7.6"
  }
 },
 "nbformat": 4,
 "nbformat_minor": 4
}
