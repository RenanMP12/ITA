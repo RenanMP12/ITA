{
 "cells": [
  {
   "cell_type": "code",
   "execution_count": 9,
   "metadata": {},
   "outputs": [
    {
     "name": "stdout",
     "output_type": "stream",
     "text": [
      "Matrix([[43*L*Q/160], [83*L**2*Q/2560], [7*L*Q/160], [-19*L**2*Q/1536]])\n"
     ]
    }
   ],
   "source": [
    "# BIBLIOTECAS\n",
    "from sympy import *\n",
    "import numpy as np\n",
    "import numpy.ma as ma\n",
    "import matplotlib.pyplot as plt\n",
    "%matplotlib inline\n",
    "\n",
    "# DECLARA SIMBOLOS\n",
    "x, y, a1, a2, a3, Q, L, E, I = symbols('x y a1 a2 a3 Q L E I')\n",
    "\n",
    "# CARREGAMENTO\n",
    "q   = a3*x**2 + a2*x + a1\n",
    "eq1 = q.subs(x,0) - Q\n",
    "a1_ = solve(eq1,a1)[0]\n",
    "q = q.subs(a1, a1_)\n",
    "eq2 = q.subs(x,L/3) - Q/2\n",
    "eq3 = q.subs(x,L)\n",
    "system = [eq2, eq3]\n",
    "var = [a2, a3]\n",
    "sol = solve(system, var)\n",
    "a2_ = sol[a2]\n",
    "a3_ = sol[a3]\n",
    "q = q.subs([(a2, a2_), (a3, a3_)])\n",
    "\n",
    "# MATRIZ DE RIGIDEZ\n",
    "K = E*I/L**3*Matrix([[12, 6*L, -12, 6*L], [6*L, 4*L**2, -6*L, 2*L**2], [-12, -6*L, 12, -6*L], [6*L, 2*L**2, -6*L, 4*L**2]])\n",
    "\n",
    "# VETOR DE CARREGAMENTO\n",
    "phi = Matrix([[2*x**3/L**3-3*x**2/L**2+1],[x - 2*x**2/L+x**3/L**2],[3*x**2/L**2 - 2*x**3/L**3],[x**3/L**2 - x**2/L]])\n",
    "F = integrate(q*phi,(x,0,L/2))\n",
    "print(F)"
   ]
  },
  {
   "cell_type": "code",
   "execution_count": 2,
   "metadata": {},
   "outputs": [
    {
     "data": {
      "text/latex": [
       "$\\displaystyle Q - \\frac{7 Q x}{4 L} + \\frac{3 Q x^{2}}{4 L^{2}}$"
      ],
      "text/plain": [
       "Q - 7*Q*x/(4*L) + 3*Q*x**2/(4*L**2)"
      ]
     },
     "execution_count": 2,
     "metadata": {},
     "output_type": "execute_result"
    }
   ],
   "source": [
    "# ELIMINAÇÃO DE LINHAS E COLUNAS\n",
    "F = F.row_del(0)\n",
    "F = F.row_del(0)\n",
    "\n",
    "K.row_del(0)\n",
    "K.row_del(0)\n",
    "K.col_del(0)\n",
    "K.col_del(0)"
   ]
  },
  {
   "cell_type": "code",
   "execution_count": 3,
   "metadata": {},
   "outputs": [
    {
     "data": {
      "text/latex": [
       "$\\displaystyle \\left[\\begin{matrix}\\frac{7 L Q}{80}\\\\- \\frac{L^{2} Q}{48}\\end{matrix}\\right]$"
      ],
      "text/plain": [
       "Matrix([\n",
       "[  7*L*Q/80],\n",
       "[-L**2*Q/48]])"
      ]
     },
     "execution_count": 3,
     "metadata": {},
     "output_type": "execute_result"
    }
   ],
   "source": [
    "F"
   ]
  },
  {
   "cell_type": "code",
   "execution_count": 10,
   "metadata": {},
   "outputs": [
    {
     "data": {
      "text/latex": [
       "$\\displaystyle \\left[\\begin{matrix}\\frac{215}{8}\\\\\\frac{415}{128}\\\\\\frac{35}{8}\\\\- \\frac{475}{384}\\end{matrix}\\right]$"
      ],
      "text/plain": [
       "Matrix([\n",
       "[   215/8],\n",
       "[ 415/128],\n",
       "[    35/8],\n",
       "[-475/384]])"
      ]
     },
     "execution_count": 10,
     "metadata": {},
     "output_type": "execute_result"
    }
   ],
   "source": [
    "F.subs({L: 1, Q: 100}).simplify()"
   ]
  },
  {
   "cell_type": "code",
   "execution_count": 4,
   "metadata": {},
   "outputs": [
    {
     "data": {
      "text/latex": [
       "$\\displaystyle \\left[\\begin{matrix}\\frac{12 E I}{L^{3}} & - \\frac{6 E I}{L^{2}}\\\\- \\frac{6 E I}{L^{2}} & \\frac{4 E I}{L}\\end{matrix}\\right]$"
      ],
      "text/plain": [
       "Matrix([\n",
       "[12*E*I/L**3, -6*E*I/L**2],\n",
       "[-6*E*I/L**2,     4*E*I/L]])"
      ]
     },
     "execution_count": 4,
     "metadata": {},
     "output_type": "execute_result"
    }
   ],
   "source": [
    "K"
   ]
  },
  {
   "cell_type": "code",
   "execution_count": 5,
   "metadata": {},
   "outputs": [],
   "source": [
    "u = linsolve((K, F))"
   ]
  },
  {
   "cell_type": "code",
   "execution_count": 7,
   "metadata": {},
   "outputs": [
    {
     "data": {
      "text/latex": [
       "$\\displaystyle \\left\\{\\left( 8.92857142857143 \\cdot 10^{-14}, \\  1.09126984126984 \\cdot 10^{-13}\\right)\\right\\}$"
      ],
      "text/plain": [
       "FiniteSet((8.92857142857143e-14, 1.09126984126984e-13))"
      ]
     },
     "execution_count": 7,
     "metadata": {},
     "output_type": "execute_result"
    }
   ],
   "source": [
    "u.subs({L: 1, Q: 100, E: 210e9, I: 100})"
   ]
  },
  {
   "cell_type": "code",
   "execution_count": 3,
   "metadata": {},
   "outputs": [],
   "source": [
    "# Bibliotecas\n",
    "from sympy import *\n",
    "from sympy.interactive import printing\n",
    "printing.init_printing(use_latex = True)"
   ]
  },
  {
   "cell_type": "code",
   "execution_count": 20,
   "metadata": {},
   "outputs": [],
   "source": [
    "x, L, E, I, Q = symbols('x L E I Q')\n",
    "f = Function('f')(x)\n",
    "q = Q + 3*Q*x**2/4/L**2 - 7*Q*x/4/L"
   ]
  },
  {
   "cell_type": "code",
   "execution_count": 27,
   "metadata": {},
   "outputs": [
    {
     "data": {
      "image/png": "[encoded data removed]",
      "text/latex": [
       "$\\displaystyle E I \\frac{d^{4}}{d x^{4}} f{\\left(x \\right)} - Q + \\frac{7 Q x}{4 L} - \\frac{3 Q x^{2}}{4 L^{2}} = 0$"
      ],
      "text/plain": [
       "      4                          2    \n",
       "     d              7⋅Q⋅x   3⋅Q⋅x     \n",
       "E⋅I⋅───(f(x)) - Q + ───── - ────── = 0\n",
       "      4              4⋅L        2     \n",
       "    dx                       4⋅L      "
      ]
     },
     "metadata": {},
     "output_type": "display_data"
    }
   ],
   "source": [
    "ics = {f.subs(x,0): 0, f.diff(x).subs(x,0): 0, f.diff(x,x).subs(x,L): 0, f.diff(x,x,x).subs(x,L): 0}\n",
    "ode = Eq(E*I*f.diff(x,x,x,x)- q,0)\n",
    "display(ode)"
   ]
  },
  {
   "cell_type": "code",
   "execution_count": 25,
   "metadata": {},
   "outputs": [
    {
     "data": {
      "image/png": "[encoded data removed]",
      "text/latex": [
       "$\\displaystyle f{\\left(x \\right)} = \\frac{Q x^{2} \\left(L^{2} \\left(25 L^{2} - 30 L x + 20 x^{2}\\right) - 7 L x^{3} + x^{4}\\right)}{480 E I L^{2}}$"
      ],
      "text/plain": [
       "          2 ⎛ 2 ⎛    2                2⎞        3    4⎞\n",
       "       Q⋅x ⋅⎝L ⋅⎝25⋅L  - 30⋅L⋅x + 20⋅x ⎠ - 7⋅L⋅x  + x ⎠\n",
       "f(x) = ────────────────────────────────────────────────\n",
       "                                   2                   \n",
       "                          480⋅E⋅I⋅L                    "
      ]
     },
     "execution_count": 25,
     "metadata": {},
     "output_type": "execute_result"
    }
   ],
   "source": [
    "fsol = dsolve(ode, f, ics = ics)\n",
    "fsol.simplify()"
   ]
  },
  {
   "cell_type": "code",
   "execution_count": 26,
   "metadata": {},
   "outputs": [
    {
     "data": {
      "image/png": "[encoded data removed]",
      "text/latex": [
       "$\\displaystyle f{\\left(L \\right)} = \\frac{3 L^{4} Q}{160 E I}$"
      ],
      "text/plain": [
       "           4  \n",
       "        3⋅L ⋅Q\n",
       "f(L) = ───────\n",
       "       160⋅E⋅I"
      ]
     },
     "execution_count": 26,
     "metadata": {},
     "output_type": "execute_result"
    }
   ],
   "source": [
    "fsol.subs(x,L)"
   ]
  },
  {
   "cell_type": "code",
   "execution_count": null,
   "metadata": {},
   "outputs": [],
   "source": []
  }
 ],
 "metadata": {
  "kernelspec": {
   "display_name": "Python 3",
   "language": "python",
   "name": "python3"
  },
  "language_info": {
   "codemirror_mode": {
    "name": "ipython",
    "version": 3
   },
   "file_extension": ".py",
   "mimetype": "text/x-python",
   "name": "python",
   "nbconvert_exporter": "python",
   "pygments_lexer": "ipython3",
   "version": "3.7.6"
  }
 },
 "nbformat": 4,
 "nbformat_minor": 4
}
