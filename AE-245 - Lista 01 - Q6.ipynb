{
 "cells": [
  {
   "cell_type": "markdown",
   "metadata": {},
   "source": [
    "# Bibliotecas"
   ]
  },
  {
   "cell_type": "code",
   "execution_count": 1,
   "metadata": {},
   "outputs": [],
   "source": [
    "from sympy import *\n",
    "import numpy as np\n",
    "import matplotlib.pyplot as plt\n",
    "from sympy.interactive import printing\n",
    "printing.init_printing(use_latex = True)\n",
    "%matplotlib inline"
   ]
  },
  {
   "cell_type": "markdown",
   "metadata": {},
   "source": [
    "# Solução exata"
   ]
  },
  {
   "cell_type": "code",
   "execution_count": 2,
   "metadata": {},
   "outputs": [
    {
     "data": {
      "image/png": "[encoded data removed]",
      "text/latex": [
       "$\\displaystyle f{\\left(x \\right)} = \\frac{\\left(x \\left(1 - e\\right) \\left(2 - x\\right) e^{x} + e^{x + 1} - e\\right) e^{- x}}{2 \\left(1 - e\\right)}$"
      ],
      "text/plain": [
       "       ⎛                   x    x + 1    ⎞  -x\n",
       "       ⎝x⋅(1 - ℯ)⋅(2 - x)⋅ℯ  + ℯ      - ℯ⎠⋅ℯ  \n",
       "f(x) = ───────────────────────────────────────\n",
       "                      2⋅(1 - ℯ)               "
      ]
     },
     "execution_count": 2,
     "metadata": {},
     "output_type": "execute_result"
    }
   ],
   "source": [
    "x = Symbol('x')\n",
    "f = Function('f')(x)\n",
    "ics = {f.subs(x,0): 0, f.subs(x,1): 0}\n",
    "ode = Eq(f.diff(x,x) + f.diff(x) + x,0)\n",
    "\n",
    "fsol = dsolve(ode, f, ics = ics)\n",
    "fsol.simplify()"
   ]
  },
  {
   "cell_type": "code",
   "execution_count": 28,
   "metadata": {},
   "outputs": [],
   "source": [
    "f = (x*(1 - exp(1))*(2-x)*exp(x) + exp(x+1)-exp(1) )*exp(-x)/(2*(1-exp(1)))"
   ]
  },
  {
   "cell_type": "markdown",
   "metadata": {},
   "source": [
    "## DECLARA SIMBOLOS"
   ]
  },
  {
   "cell_type": "code",
   "execution_count": 3,
   "metadata": {},
   "outputs": [],
   "source": [
    "x, y, C1, C2, C3, C4 = symbols('x y C1 C2 C3 C4')"
   ]
  },
  {
   "cell_type": "markdown",
   "metadata": {},
   "source": [
    "## POLINOMIOS DE 2º GRAU"
   ]
  },
  {
   "cell_type": "code",
   "execution_count": 4,
   "metadata": {},
   "outputs": [],
   "source": [
    "y2_ = C1*x*(1-x)"
   ]
  },
  {
   "cell_type": "markdown",
   "metadata": {},
   "source": [
    "## VALIDAR SE TODAS AS CONDIÇÕES DE CONTORNO FORAM SATISFEITAS"
   ]
  },
  {
   "cell_type": "code",
   "execution_count": 5,
   "metadata": {},
   "outputs": [
    {
     "name": "stdout",
     "output_type": "stream",
     "text": [
      "y(0) = 0:  True\n",
      "y(1) = 0:  True\n"
     ]
    }
   ],
   "source": [
    "print(\"y(0) = 0: \", y2_.subs(x,0).simplify() == 0)\n",
    "print(\"y(1) = 0: \", y2_.subs(x,1).simplify() == 0)"
   ]
  },
  {
   "cell_type": "markdown",
   "metadata": {},
   "source": [
    "## DERIVADAS DE y"
   ]
  },
  {
   "cell_type": "code",
   "execution_count": 6,
   "metadata": {},
   "outputs": [],
   "source": [
    "dy  = y2_.diff(x)\n",
    "ddy = y2_.diff(x,x)"
   ]
  },
  {
   "cell_type": "markdown",
   "metadata": {},
   "source": [
    "## RESÍDUO"
   ]
  },
  {
   "cell_type": "code",
   "execution_count": 7,
   "metadata": {},
   "outputs": [],
   "source": [
    "R   = ddy + dy + x\n",
    "phi = y2_.diff(C1)"
   ]
  },
  {
   "cell_type": "markdown",
   "metadata": {},
   "source": [
    "## INTEGRAÇÃO ORTOGONAL"
   ]
  },
  {
   "cell_type": "code",
   "execution_count": 8,
   "metadata": {},
   "outputs": [],
   "source": [
    "I = integrate(R*phi, (x, 0, 1))"
   ]
  },
  {
   "cell_type": "markdown",
   "metadata": {},
   "source": [
    "## ENCONTRAR VARIÁVEIS"
   ]
  },
  {
   "cell_type": "code",
   "execution_count": 9,
   "metadata": {},
   "outputs": [],
   "source": [
    "C1_ = solve(I, C1)"
   ]
  },
  {
   "cell_type": "markdown",
   "metadata": {},
   "source": [
    "## EQUAÇÃO DA LINHA ELASTICA FINAL"
   ]
  },
  {
   "cell_type": "code",
   "execution_count": 10,
   "metadata": {},
   "outputs": [],
   "source": [
    "y2 = y2_.subs([(C1,C1_[0])])"
   ]
  },
  {
   "cell_type": "markdown",
   "metadata": {},
   "source": [
    "## POLINOMIOS DE 3º GRAU"
   ]
  },
  {
   "cell_type": "code",
   "execution_count": 11,
   "metadata": {},
   "outputs": [],
   "source": [
    "y3 = x*(1-x)*(C1 + C2*x)"
   ]
  },
  {
   "cell_type": "markdown",
   "metadata": {},
   "source": [
    "## VALIDAR SE TODAS AS CONDIÇÕES DE CONTORNO FORAM SATISFEITAS"
   ]
  },
  {
   "cell_type": "code",
   "execution_count": 12,
   "metadata": {},
   "outputs": [
    {
     "name": "stdout",
     "output_type": "stream",
     "text": [
      "y(0) = 0:  True\n",
      "y(1) = 0:  True\n"
     ]
    }
   ],
   "source": [
    "print(\"y(0) = 0: \", y3.subs(x,0).simplify() == 0)\n",
    "print(\"y(1) = 0: \", y3.subs(x,1).simplify() == 0)"
   ]
  },
  {
   "cell_type": "markdown",
   "metadata": {},
   "source": [
    "## DERIVADAS DE y"
   ]
  },
  {
   "cell_type": "code",
   "execution_count": 13,
   "metadata": {},
   "outputs": [],
   "source": [
    "dy  = y3.diff(x)\n",
    "ddy = y3.diff(x,x)"
   ]
  },
  {
   "cell_type": "markdown",
   "metadata": {},
   "source": [
    "## RESÍDUO"
   ]
  },
  {
   "cell_type": "code",
   "execution_count": 14,
   "metadata": {},
   "outputs": [],
   "source": [
    "R   = ddy + dy + x\n",
    "phi1 = y3.diff(C1)\n",
    "phi2 = y3.diff(C2)"
   ]
  },
  {
   "cell_type": "markdown",
   "metadata": {},
   "source": [
    "## INTEGRAÇÃO ORTOGONAL"
   ]
  },
  {
   "cell_type": "code",
   "execution_count": 15,
   "metadata": {},
   "outputs": [],
   "source": [
    "I1 = integrate(R*phi1, (x, 0, 1))\n",
    "I2 = integrate(R*phi2, (x, 0, 1))\n",
    "system = [I1, I2]\n",
    "vars = [C1, C2]\n",
    "sol = solve(system, vars)\n",
    "C1_ = sol[C1]\n",
    "C2_ = sol[C2]"
   ]
  },
  {
   "cell_type": "markdown",
   "metadata": {},
   "source": [
    "## EQUAÇÃO DA LINHA ELASTICA FINAL"
   ]
  },
  {
   "cell_type": "code",
   "execution_count": 16,
   "metadata": {},
   "outputs": [],
   "source": [
    "y3 = y3.subs([(C1,C1_), (C2,C2_)])"
   ]
  },
  {
   "cell_type": "markdown",
   "metadata": {},
   "source": [
    "## POLINOMIOS DE 4º GRAU"
   ]
  },
  {
   "cell_type": "code",
   "execution_count": 17,
   "metadata": {},
   "outputs": [],
   "source": [
    "y4 = C1*x*( 1 - x ) + C2*x**2*( 1 - x ) + C3*x**3*( 1 - x )"
   ]
  },
  {
   "cell_type": "markdown",
   "metadata": {},
   "source": [
    "## VALIDAR SE TODAS AS CONDIÇÕES DE CONTORNO FORAM SATISFEITAS"
   ]
  },
  {
   "cell_type": "code",
   "execution_count": 18,
   "metadata": {},
   "outputs": [
    {
     "name": "stdout",
     "output_type": "stream",
     "text": [
      "y(0) = 0:  True\n",
      "y(1) = 0:  True\n"
     ]
    }
   ],
   "source": [
    "print(\"y(0) = 0: \", y4.subs(x,0).simplify() == 0)\n",
    "print(\"y(1) = 0: \", y4.subs(x,1).simplify() == 0)"
   ]
  },
  {
   "cell_type": "markdown",
   "metadata": {},
   "source": [
    "## DERIVADAS DE y"
   ]
  },
  {
   "cell_type": "code",
   "execution_count": 19,
   "metadata": {},
   "outputs": [],
   "source": [
    "dy  = y4.diff(x)\n",
    "ddy = y4.diff(x,x)"
   ]
  },
  {
   "cell_type": "markdown",
   "metadata": {},
   "source": [
    "## RESÍDUO"
   ]
  },
  {
   "cell_type": "code",
   "execution_count": 20,
   "metadata": {},
   "outputs": [],
   "source": [
    "R   = ddy + dy + x\n",
    "phi1 = y4.diff(C1)\n",
    "phi2 = y4.diff(C2)\n",
    "phi3 = y4.diff(C3)"
   ]
  },
  {
   "cell_type": "markdown",
   "metadata": {},
   "source": [
    "## INTEGRAÇÃO ORTOGONAL"
   ]
  },
  {
   "cell_type": "code",
   "execution_count": 21,
   "metadata": {},
   "outputs": [],
   "source": [
    "I1 = integrate(R*phi1, (x, 0, 1))\n",
    "I2 = integrate(R*phi2, (x, 0, 1))\n",
    "I3 = integrate(R*phi3, (x, 0, 1))\n",
    "system = [I1, I2, I3]\n",
    "vars = [C1, C2, C3]\n",
    "sol = solve(system, vars)\n",
    "C1_ = sol[C1]\n",
    "C2_ = sol[C2]\n",
    "C3_ = sol[C3]"
   ]
  },
  {
   "cell_type": "markdown",
   "metadata": {},
   "source": [
    "## EQUAÇÃO DA LINHA ELASTICA FINAL"
   ]
  },
  {
   "cell_type": "code",
   "execution_count": 22,
   "metadata": {},
   "outputs": [],
   "source": [
    "y4 = y4.subs([(C1,C1_), (C2,C2_), (C3,C3_)])"
   ]
  },
  {
   "cell_type": "markdown",
   "metadata": {},
   "source": [
    "## PLOT"
   ]
  },
  {
   "cell_type": "code",
   "execution_count": 30,
   "metadata": {},
   "outputs": [
    {
     "data": {
      "image/png": "[encoded data removed]",
      "text/plain": [
       "<Figure size 864x504 with 1 Axes>"
      ]
     },
     "metadata": {
      "needs_background": "light"
     },
     "output_type": "display_data"
    }
   ],
   "source": [
    "fig, ax = plt.subplots(figsize = (12, 7))\n",
    "\n",
    "x_range = np.arange(0.0, 1.1, 0.05)\n",
    "\n",
    "x_2 = list()\n",
    "y_2 = list()\n",
    "y_3 = list()\n",
    "y_4 = list()\n",
    "y_exact = list()\n",
    "\n",
    "for i in x_range:\n",
    "    x_2.append(i)\n",
    "    value2 = y2.subs([(x, i)])\n",
    "    y_2.append(value2)\n",
    "    \n",
    "    value3 = y3.subs([(x, i)])\n",
    "    y_3.append(value3)\n",
    "    \n",
    "    value4 = y4.subs([(x, i)])\n",
    "    y_4.append(value4)\n",
    "    \n",
    "    value5 = f.subs([(x, i)])\n",
    "    y_exact.append(value5)\n",
    "    \n",
    "plt.plot(x_2, y_2, '-^')\n",
    "plt.plot(x_2, y_3, '-o')\n",
    "plt.plot(x_2, y_4, '-s')\n",
    "plt.plot(x_2, y_exact, '--')\n",
    "plt.xlim([0, 1])\n",
    "plt.ylim([0, 0.08])\n",
    "plt.legend([\"$y_2(x)$\", \"$y_3(x)$\", \"$y_4(x)$\", \"$y_{exact}(x)$\"])\n",
    "plt.grid()\n",
    "plt.show()"
   ]
  },
  {
   "cell_type": "code",
   "execution_count": 25,
   "metadata": {},
   "outputs": [
    {
     "data": {
      "image/png": "[encoded data removed]",
      "text/latex": [
       "$\\displaystyle f{\\left(x \\right)} = - \\frac{x^{2}}{2} + x + \\frac{e}{2 \\left(1 - e\\right)} + \\frac{e e^{- x}}{2 \\left(-1 + e\\right)}$"
      ],
      "text/plain": [
       "          2                        -x   \n",
       "         x            ℯ         ℯ⋅ℯ     \n",
       "f(x) = - ── + x + ───────── + ──────────\n",
       "         2        2⋅(1 - ℯ)   2⋅(-1 + ℯ)"
      ]
     },
     "execution_count": 25,
     "metadata": {},
     "output_type": "execute_result"
    }
   ],
   "source": [
    "fsol"
   ]
  },
  {
   "cell_type": "code",
   "execution_count": 34,
   "metadata": {},
   "outputs": [
    {
     "data": {
      "image/png": "[encoded data removed]",
      "text/latex": [
       "$\\displaystyle f{\\left(0 \\right)} = \\frac{e}{2 \\left(1 - e\\right)} + \\frac{e}{2 \\left(-1 + e\\right)}$"
      ],
      "text/plain": [
       "           ℯ           ℯ     \n",
       "f(0) = ───────── + ──────────\n",
       "       2⋅(1 - ℯ)   2⋅(-1 + ℯ)"
      ]
     },
     "execution_count": 34,
     "metadata": {},
     "output_type": "execute_result"
    }
   ],
   "source": [
    "fsol.subs(x,0)"
   ]
  },
  {
   "cell_type": "code",
   "execution_count": null,
   "metadata": {},
   "outputs": [],
   "source": []
  }
 ],
 "metadata": {
  "kernelspec": {
   "display_name": "Python 3",
   "language": "python",
   "name": "python3"
  },
  "language_info": {
   "codemirror_mode": {
    "name": "ipython",
    "version": 3
   },
   "file_extension": ".py",
   "mimetype": "text/x-python",
   "name": "python",
   "nbconvert_exporter": "python",
   "pygments_lexer": "ipython3",
   "version": "3.7.6"
  }
 },
 "nbformat": 4,
 "nbformat_minor": 4
}
