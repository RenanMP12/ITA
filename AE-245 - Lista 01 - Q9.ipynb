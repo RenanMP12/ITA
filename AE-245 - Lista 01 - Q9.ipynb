{
 "cells": [
  {
   "cell_type": "code",
   "execution_count": 1,
   "metadata": {},
   "outputs": [],
   "source": [
    "# BIBLIOTECAS\n",
    "from sympy import *\n",
    "import numpy as np\n",
    "import matplotlib.pyplot as plt\n",
    "%matplotlib inline\n",
    "\n",
    "# DECLARA SIMBOLOS\n",
    "x, y, C1, C2, q, K, L, E, I = symbols('x y C1 C2 q K L E I')\n",
    "\n",
    "# POLINÔMIO\n",
    "y = C1*sin(pi*x/L) + C2*sin(3*pi*x/L)\n",
    "\n",
    "# DERIVADA\n",
    "ddy  = y.diff(x,x)\n",
    "\n",
    "# ENERGIA\n",
    "en = integrate(E*I/2*ddy**2 - q*y +K/2*y**2 , (x, 0, L))\n",
    "\n",
    "# SISTEMA\n",
    "eq1 = en.diff(C1)\n",
    "eq2 = en.diff(C2)\n",
    "system = [eq1, eq2]\n",
    "var = [C1, C2] \n",
    "sol = solve(system, var)\n",
    "C1_ = sol[C1]\n",
    "C2_ = sol[C2]\n",
    "\n",
    "# EQUAÇÃO DA LINHA ELASTICA FINAL\n",
    "y1 = y.subs([(C1,C1_), (C2,C2_)]).simplify()\n",
    "\n",
    "# MOMENTO \n",
    "M = y1.diff(x,x)"
   ]
  },
  {
   "cell_type": "code",
   "execution_count": 2,
   "metadata": {},
   "outputs": [
    {
     "data": {
      "text/latex": [
       "$\\displaystyle \\frac{4 L^{4} q}{\\pi \\left(\\pi^{4} E I + K L^{4}\\right)}$"
      ],
      "text/plain": [
       "4*L**4*q/(pi*(pi**4*E*I + K*L**4))"
      ]
     },
     "execution_count": 2,
     "metadata": {},
     "output_type": "execute_result"
    }
   ],
   "source": [
    "C1_"
   ]
  },
  {
   "cell_type": "code",
   "execution_count": 3,
   "metadata": {},
   "outputs": [
    {
     "data": {
      "text/latex": [
       "$\\displaystyle \\frac{4 L^{4} q}{3 \\pi \\left(81 \\pi^{4} E I + K L^{4}\\right)}$"
      ],
      "text/plain": [
       "4*L**4*q/(3*pi*(81*pi**4*E*I + K*L**4))"
      ]
     },
     "execution_count": 3,
     "metadata": {},
     "output_type": "execute_result"
    }
   ],
   "source": [
    "C2_"
   ]
  },
  {
   "cell_type": "code",
   "execution_count": 4,
   "metadata": {},
   "outputs": [
    {
     "data": {
      "text/latex": [
       "$\\displaystyle \\frac{4 L^{4} q \\left(\\left(\\pi^{4} E I + K L^{4}\\right) \\sin{\\left(\\frac{3 \\pi x}{L} \\right)} + \\left(243 \\pi^{4} E I + 3 K L^{4}\\right) \\sin{\\left(\\frac{\\pi x}{L} \\right)}\\right)}{3 \\pi \\left(\\pi^{4} E I + K L^{4}\\right) \\left(81 \\pi^{4} E I + K L^{4}\\right)}$"
      ],
      "text/plain": [
       "4*L**4*q*((pi**4*E*I + K*L**4)*sin(3*pi*x/L) + (243*pi**4*E*I + 3*K*L**4)*sin(pi*x/L))/(3*pi*(pi**4*E*I + K*L**4)*(81*pi**4*E*I + K*L**4))"
      ]
     },
     "execution_count": 4,
     "metadata": {},
     "output_type": "execute_result"
    }
   ],
   "source": [
    "y1"
   ]
  },
  {
   "cell_type": "code",
   "execution_count": 5,
   "metadata": {},
   "outputs": [
    {
     "data": {
      "text/latex": [
       "$\\displaystyle - \\frac{4 \\pi L^{2} q \\left(3 \\left(\\pi^{4} E I + K L^{4}\\right) \\sin{\\left(\\frac{3 \\pi x}{L} \\right)} + \\left(81 \\pi^{4} E I + K L^{4}\\right) \\sin{\\left(\\frac{\\pi x}{L} \\right)}\\right)}{\\left(\\pi^{4} E I + K L^{4}\\right) \\left(81 \\pi^{4} E I + K L^{4}\\right)}$"
      ],
      "text/plain": [
       "-4*pi*L**2*q*(3*(pi**4*E*I + K*L**4)*sin(3*pi*x/L) + (81*pi**4*E*I + K*L**4)*sin(pi*x/L))/((pi**4*E*I + K*L**4)*(81*pi**4*E*I + K*L**4))"
      ]
     },
     "execution_count": 5,
     "metadata": {},
     "output_type": "execute_result"
    }
   ],
   "source": [
    "M"
   ]
  }
 ],
 "metadata": {
  "kernelspec": {
   "display_name": "Python 3",
   "language": "python",
   "name": "python3"
  },
  "language_info": {
   "codemirror_mode": {
    "name": "ipython",
    "version": 3
   },
   "file_extension": ".py",
   "mimetype": "text/x-python",
   "name": "python",
   "nbconvert_exporter": "python",
   "pygments_lexer": "ipython3",
   "version": "3.7.6"
  }
 },
 "nbformat": 4,
 "nbformat_minor": 4
}
