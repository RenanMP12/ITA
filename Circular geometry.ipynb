{
 "cells": [
  {
   "cell_type": "markdown",
   "metadata": {},
   "source": [
    "# Libraries"
   ]
  },
  {
   "cell_type": "code",
   "execution_count": 1,
   "metadata": {},
   "outputs": [],
   "source": [
    "import numpy as np\n",
    "import numpy.ma as ma\n",
    "import matplotlib.pyplot as plt"
   ]
  },
  {
   "cell_type": "markdown",
   "metadata": {},
   "source": [
    "# Coordinate matrix"
   ]
  },
  {
   "cell_type": "code",
   "execution_count": 2,
   "metadata": {},
   "outputs": [],
   "source": [
    "# number of nodes\n",
    "nnos = 101\n",
    "# number of elements\n",
    "nel  = nnos - 2\n",
    "\n",
    "# coordinate matrix pre-allocation\n",
    "coord = np.zeros((nnos, 3))  \n",
    "coord[0][0] = 1\n",
    "\n",
    "# theta value\n",
    "theta = (np.pi/2)/(nnos-2)\n",
    "\n",
    "for i in range(0, nnos-1):\n",
    "    coord[i + 1][0] = i + 2             # Node reference  \n",
    "    coord[i + 1][1] = np.cos(theta*i)   # X coordinate\n",
    "    coord[i + 1][2] = np.sin(theta*i)   # Y coordinate"
   ]
  },
  {
   "cell_type": "markdown",
   "metadata": {},
   "source": [
    "# Plot "
   ]
  },
  {
   "cell_type": "code",
   "execution_count": 3,
   "metadata": {},
   "outputs": [
    {
     "data": {
      "text/plain": [
       "Text(0, 0.5, 'y')"
      ]
     },
     "execution_count": 3,
     "metadata": {},
     "output_type": "execute_result"
    },
    {
     "data": {
      "image/png": "[encoded data removed]",
      "text/plain": [
       "<Figure size 432x288 with 1 Axes>"
      ]
     },
     "metadata": {
      "needs_background": "light"
     },
     "output_type": "display_data"
    }
   ],
   "source": [
    "fig = plt.figure()\n",
    "plt.xlim([0,1])\n",
    "plt.ylim([0,1])\n",
    "plt.scatter(coord[:,1], coord[:,2], marker = 'o', c = 'black', alpha = 0.85)\n",
    "plt.xlabel('x', fontsize = 'xx-large')\n",
    "plt.ylabel('y', fontsize = 'xx-large')"
   ]
  },
  {
   "cell_type": "code",
   "execution_count": 4,
   "metadata": {},
   "outputs": [
    {
     "data": {
      "text/plain": [
       "[<matplotlib.patches.Polygon at 0x7f7eb46cb990>,\n",
       " <matplotlib.patches.Polygon at 0x7f7eb55d7190>]"
      ]
     },
     "execution_count": 4,
     "metadata": {},
     "output_type": "execute_result"
    },
    {
     "data": {
      "image/png": "[encoded data removed]",
      "text/plain": [
       "<Figure size 432x288 with 1 Axes>"
      ]
     },
     "metadata": {
      "needs_background": "light"
     },
     "output_type": "display_data"
    }
   ],
   "source": [
    "fig, ax = plt.subplots()\n",
    "plt.xlim([0,1])\n",
    "plt.ylim([0,1])\n",
    "ax.fill(coord[:,1], coord[:,2],0)"
   ]
  },
  {
   "cell_type": "markdown",
   "metadata": {},
   "source": [
    "# Incidence matrix"
   ]
  },
  {
   "cell_type": "code",
   "execution_count": 5,
   "metadata": {},
   "outputs": [],
   "source": [
    "# incidence matrix pre-allocation\n",
    "inci = np.zeros((nel, 3))  \n",
    "\n",
    "for i in range(0,nel):\n",
    "    # central node\n",
    "    inci[i][0] = 1\n",
    "    # first node\n",
    "    inci[i][1] = i + 2\n",
    "    # second node\n",
    "    inci[i][2] = i + 3"
   ]
  },
  {
   "cell_type": "markdown",
   "metadata": {},
   "source": [
    "# Area"
   ]
  },
  {
   "cell_type": "code",
   "execution_count": 6,
   "metadata": {},
   "outputs": [
    {
     "name": "stdout",
     "output_type": "stream",
     "text": [
      "Error =  0.00419577941351902 %\n"
     ]
    }
   ],
   "source": [
    "# somatory\n",
    "A = 0 \n",
    "\n",
    "# central node coordinates\n",
    "x1 = coord[int(inci[0,0] - 1), 1]\n",
    "y1 = coord[int(inci[0,0] - 1), 2]\n",
    "\n",
    "f = np.zeros(nnos-1)\n",
    "\n",
    "for i in range(0,nel):\n",
    "    #     second node coordinates\n",
    "    x2 = coord[int(inci[0,1] - 1), 1]\n",
    "    y2 = coord[int(inci[0,1] - 1), 2]\n",
    "    \n",
    "    #     third node coordinates\n",
    "    x3 = coord[int(inci[0,2] - 1), 1]\n",
    "    y3 = coord[int(inci[0,2] - 1), 2]\n",
    "    \n",
    "    a = 0.5*((x2 - x1)*(y3-y1) - (x3 - x1)*(y2 - y1))\n",
    "    \n",
    "    f[i] = a\n",
    "    \n",
    "    #     area summation\n",
    "    A = A + a\n",
    "    \n",
    "# relative error\n",
    "error_Area = (np.pi/4 - A)/(np.pi/4)*100\n",
    "# display('Error = ',error_Area)\n",
    "\n",
    "print('Error = ', error_Area,'%')"
   ]
  },
  {
   "cell_type": "markdown",
   "metadata": {},
   "source": [
    "# Centroid"
   ]
  },
  {
   "cell_type": "code",
   "execution_count": 7,
   "metadata": {},
   "outputs": [
    {
     "name": "stdout",
     "output_type": "stream",
     "text": [
      "Error centroid X =  -57.06974669011344 %\n",
      "Error centroid Y =  98.75389011436114 %\n"
     ]
    }
   ],
   "source": [
    "centx = 0\n",
    "centy = 0\n",
    "\n",
    "for i in range(0,nel):\n",
    "    #     second node coordinates\n",
    "    x2 = coord[int(inci[0,1] - 1), 1]\n",
    "    y2 = coord[int(inci[0,1] - 1), 2]\n",
    "    \n",
    "    #     third node coordinates\n",
    "    x3 = coord[int(inci[0,2] - 1), 1]\n",
    "    y3 = coord[int(inci[0,2] - 1), 2]   \n",
    "    \n",
    "    centx = centx + f[i]*((x1+x2+x3)/3)\n",
    "    centy = centy + f[i]*((y1+y2+y3)/3)\n",
    "    \n",
    "# centroid X\n",
    "X = centx/A\n",
    "\n",
    "# centroid Y\n",
    "Y = centy/A\n",
    "\n",
    "# exact centroid \n",
    "exact_cent = 4/(np.pi*3)\n",
    "\n",
    "# error X\n",
    "error_x = (exact_cent - X)/exact_cent*100\n",
    "# error Y\n",
    "error_y = (exact_cent - Y)/exact_cent*100\n",
    "\n",
    "print('Error centroid X = ', error_x,'%')\n",
    "print('Error centroid Y = ', error_y,'%')"
   ]
  },
  {
   "cell_type": "markdown",
   "metadata": {},
   "source": [
    "# Inertia moment"
   ]
  },
  {
   "cell_type": "code",
   "execution_count": null,
   "metadata": {},
   "outputs": [],
   "source": [
    "Ix = "
   ]
  }
 ],
 "metadata": {
  "kernelspec": {
   "display_name": "Python 3",
   "language": "python",
   "name": "python3"
  },
  "language_info": {
   "codemirror_mode": {
    "name": "ipython",
    "version": 3
   },
   "file_extension": ".py",
   "mimetype": "text/x-python",
   "name": "python",
   "nbconvert_exporter": "python",
   "pygments_lexer": "ipython3",
   "version": "3.7.6"
  }
 },
 "nbformat": 4,
 "nbformat_minor": 4
}
