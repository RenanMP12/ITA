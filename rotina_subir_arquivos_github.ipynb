{
 "cells": [
  {
   "cell_type": "markdown",
   "metadata": {},
   "source": [
    "# Library"
   ]
  },
  {
   "cell_type": "code",
   "execution_count": 1,
   "metadata": {},
   "outputs": [],
   "source": [
    "import pyautogui as pa\n",
    "import time"
   ]
  },
  {
   "cell_type": "markdown",
   "metadata": {},
   "source": [
    "# Routine"
   ]
  },
  {
   "cell_type": "code",
   "execution_count": null,
   "metadata": {},
   "outputs": [],
   "source": [
    "# open terminal\n",
    "pa.hotkey('ctrl', 'alt', 't') \n",
    "\n",
    "time.sleep(5)\n",
    "\n",
    "# find file\n",
    "pa.write('cd Documents/Atividades\\ ITA/')\n",
    "pa.press('enter')\n",
    "\n",
    "# git commands\n",
    "pa.write('git status')\n",
    "pa.press('enter')\n",
    "\n",
    "pa.write('git add -A')\n",
    "pa.press('enter')\n",
    "\n",
    "pa.write('git commit -m \"automatic routine\"')\n",
    "pa.press('enter')\n",
    "\n",
    "pa.write('git push')\n",
    "pa.press('enter')\n",
    "\n",
    "pa.alert('Fim do código')"
   ]
  },
  {
   "cell_type": "markdown",
   "metadata": {},
   "source": []
  }
 ],
 "metadata": {
  "kernelspec": {
   "display_name": "Python 3",
   "language": "python",
   "name": "python3"
  },
  "language_info": {
   "codemirror_mode": {
    "name": "ipython",
    "version": 3
   },
   "file_extension": ".py",
   "mimetype": "text/x-python",
   "name": "python",
   "nbconvert_exporter": "python",
   "pygments_lexer": "ipython3",
   "version": "3.7.6"
  }
 },
 "nbformat": 4,
 "nbformat_minor": 4
}
