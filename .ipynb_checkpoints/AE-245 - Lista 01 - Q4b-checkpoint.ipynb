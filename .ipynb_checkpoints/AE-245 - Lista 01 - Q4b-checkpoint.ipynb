{
 "cells": [
  {
   "cell_type": "code",
   "execution_count": 1,
   "metadata": {},
   "outputs": [
    {
     "name": "stdout",
     "output_type": "stream",
     "text": [
      "y1(0) = 0:  True\n",
      "y2(l/2) = 0:  True\n",
      "y1(L/2) = y2(0):  True\n",
      "y'1(L/2) = y'2(0):  True\n"
     ]
    },
    {
     "data": {
      "image/png": "[encoded data removed]",
      "text/plain": [
       "<Figure size 432x288 with 1 Axes>"
      ]
     },
     "metadata": {
      "needs_background": "light"
     },
     "output_type": "display_data"
    }
   ],
   "source": [
    "import sympy as sym\n",
    "import numpy as np\n",
    "import matplotlib.pyplot as plt\n",
    "%matplotlib inline\n",
    "\n",
    "# DECLARA SIMBOLOS\n",
    "x1, x2, L, E, I1, I2, P, C1, C2, C3, C4, C5, C6, C7, C8 = sym.symbols('x1 x2 L E I1 I2 P C1 C2 C3 C4 C5 C6 C7 C8')\n",
    "\n",
    "# POLINOMIOS DE 3º GRAU\n",
    "y1 = C1 + C2*x1 + C3*x1**2 + C4*x1**3\n",
    "y2 = C5 + C6*x2 + C7*x2**2 + C8*x2**3\n",
    "\n",
    "# APLICA CONDIÇÃO DE CONTORNO y1(0) = 0 PARA OBTER C1\n",
    "C1_ = sym.solve(y1.subs(x1,0), C1)[0]\n",
    "y1 = y1.subs(C1,C1_)\n",
    "\n",
    "# APLICA CONDIÇÃO DE CONTORNO y2(l/2) = 0 PARA OBTER C5\n",
    "C5_ = sym.solve(y2.subs(x2,L/2),C5)[0]\n",
    "y2 = y2.subs(C5,C5_)\n",
    "\n",
    "# APLICA CONDIÇÃO DE CONTORNO y1(l/2) = y2(0) PARA OBTER C6\n",
    "C6_ = sym.solve(y1.subs(x1,L/2) - y2.subs(x2,0), C6)[0]\n",
    "y2 = y2.subs(C6,C6_)\n",
    "\n",
    "# APLICA CONDIÇÃO DE CONTORNO dy1(l/2) = dy2(0) PARA OBTER C2\n",
    "C2_ = sym.solve((y1.diff(x1).subs(x1,L/2) - y2.diff(x2).subs(x2,0)), C2)[0]\n",
    "y1 = y1.subs(C2,C2_)\n",
    "y2 = y2.subs(C2,C2_)\n",
    "\n",
    "# SEGUNDA DERIVADA DE y1 E y2\n",
    "ddy1 = y1.diff(x1,x1)\n",
    "ddy2 = y2.diff(x2,x2)\n",
    "\n",
    "# ENERGIA\n",
    "en = sym.integrate((E*I1*ddy1**2)/2, (x1, 0, L/2)) + sym.integrate((E*I2*ddy2**2)/2, (x2, 0, L/2)) - P*y1.subs(x1,L/2)\n",
    "\n",
    "# RESOLVER SISTEMA PARA ENCONTRAR C3, C4, C7 E C8\n",
    "C3_, C4_, C7_, C8_ = sym.solve((en.diff(C3), en.diff(C4), en.diff(C7), en.diff(C8)), C3, C4, C7, C8).values()\n",
    "\n",
    "# EQUAÇÃO DA LINHA ELASTICA FINAL\n",
    "y1 = y1.subs([(C3,C3_), (C4,C4_), (C7,C7_), (C8,C8_)]).simplify()\n",
    "y2 = y2.subs([(C3,C3_), (C4,C4_), (C7,C7_), (C8,C8_)]).simplify()\n",
    "\n",
    "# VALIDA SE TODAS AS CONDIÇÕES DE CONTORNO FORAM SATISFEITAS\n",
    "print(\"y1(0) = 0: \", y1.subs(x1,0).simplify() == 0)\n",
    "print(\"y2(l/2) = 0: \", y2.subs(x2,L/2).simplify() == 0)\n",
    "print(\"y1(L/2) = y2(0): \", y1.subs(x1,L/2).simplify() == y2.subs(x2,0).simplify())\n",
    "print(\"y'1(L/2) = y'2(0): \", y1.diff(x1).subs(x1,L/2).simplify() == y2.diff(x2).subs(x2,0).simplify())\n",
    "\n",
    "# PLOT\n",
    "x_range = np.arange(0.0, 0.51, 0.01)\n",
    "x_1 = list()\n",
    "y_1 = list()\n",
    "x_2 = list()\n",
    "y_2 = list()\n",
    "\n",
    "for i in x_range:\n",
    "    value = y1.subs([(x1, i), (E,5), (L,1), (I1,200), (I2, 50), (P,-100)])\n",
    "    x_1.append(i)\n",
    "    y_1.append(value)\n",
    "        \n",
    "for i in x_range:\n",
    "    value = y2.subs([(x2, i), (E,5), (L,1), (I1,200), (I2, 50), (P,-100)])\n",
    "    x_2.append(i+0.5)\n",
    "    y_2.append(value)\n",
    "\n",
    "plt.plot(x_1, y_1)\n",
    "plt.plot(x_2, y_2)\n",
    "plt.legend([\"$y_1(x_1) = C_{1} + C_{2} x_{1} + C_{3} x_{1}^{2} + C_{4} x_{1}^{3}$\", \"$y_2(x_2) = C_{5} + C_{6} x_{2} + C_{7} x_{2}^{2} + C_{8} x_{2}^{3}$\"])\n",
    "plt.grid()\n"
   ]
  }
 ],
 "metadata": {
  "kernelspec": {
   "display_name": "Python 3",
   "language": "python",
   "name": "python3"
  },
  "language_info": {
   "codemirror_mode": {
    "name": "ipython",
    "version": 3
   },
   "file_extension": ".py",
   "mimetype": "text/x-python",
   "name": "python",
   "nbconvert_exporter": "python",
   "pygments_lexer": "ipython3",
   "version": "3.7.6"
  }
 },
 "nbformat": 4,
 "nbformat_minor": 4
}
