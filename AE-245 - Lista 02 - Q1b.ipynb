{
 "cells": [
  {
   "cell_type": "markdown",
   "metadata": {},
   "source": [
    "# Libraries"
   ]
  },
  {
   "cell_type": "code",
   "execution_count": 1,
   "metadata": {},
   "outputs": [],
   "source": [
    "import numpy as np\n",
    "import numpy.ma as ma\n",
    "import matplotlib.pyplot as plt"
   ]
  },
  {
   "cell_type": "markdown",
   "metadata": {},
   "source": [
    "# Input"
   ]
  },
  {
   "cell_type": "code",
   "execution_count": 2,
   "metadata": {},
   "outputs": [],
   "source": [
    "E = 80e9 # youngs modulus\n",
    "A = 1e-4 # section area"
   ]
  },
  {
   "cell_type": "markdown",
   "metadata": {},
   "source": [
    "# Coordinate matrix"
   ]
  },
  {
   "cell_type": "code",
   "execution_count": 3,
   "metadata": {},
   "outputs": [],
   "source": [
    "coord = np.array([[1, 0, 0],[2, 1.2,0.3],[3, 2.4,0],[4,1.2,0.8]])\n",
    "nnos = np.size(coord,0)"
   ]
  },
  {
   "cell_type": "markdown",
   "metadata": {},
   "source": [
    "# Incidence matrix"
   ]
  },
  {
   "cell_type": "code",
   "execution_count": 4,
   "metadata": {},
   "outputs": [],
   "source": [
    "inci = np.array([[1, 1, 2],[2,2,3],[3,3,4],[4,4,1],[5,2,4]])\n",
    "nel = np.size(inci,0)"
   ]
  },
  {
   "cell_type": "markdown",
   "metadata": {},
   "source": [
    "# Boundary conditions"
   ]
  },
  {
   "cell_type": "code",
   "execution_count": 5,
   "metadata": {},
   "outputs": [],
   "source": [
    "#   bc=[node | degree of freedom | value]\n",
    "#\n",
    "#   Degree of freedom 1 --> x\n",
    "#   Degree of freedom 2 --> y\n",
    "\n",
    "bc = np.array([[1,1,0],[1,2,0],[3,1,0],[3,2,0]])"
   ]
  },
  {
   "cell_type": "markdown",
   "metadata": {},
   "source": [
    "# Mask stiffness matrix"
   ]
  },
  {
   "cell_type": "code",
   "execution_count": 6,
   "metadata": {},
   "outputs": [],
   "source": [
    "mask = np.zeros((2*nnos,2*nnos))\n",
    "for i in range(0, np.size(bc,0)):\n",
    "    if bc[i,1] == 1:\n",
    "        mask[2*bc[i,0]-2,2*bc[i,0]-2] = 1\n",
    "    elif bc[i,1] == 2:\n",
    "        mask[2*bc[i,0]-1,2*bc[i,0]-1] = 1\n",
    "mask = ma.masked_equal(mask, 1)\n",
    "mask = ma.mask_rowcols(mask)\n",
    "mask = (mask==False)"
   ]
  },
  {
   "cell_type": "markdown",
   "metadata": {},
   "source": [
    "# Mask load vector"
   ]
  },
  {
   "cell_type": "code",
   "execution_count": 7,
   "metadata": {},
   "outputs": [],
   "source": [
    "maskv = np.zeros(2*nnos)\n",
    "for i in range(0, np.size(bc,0)):\n",
    "    if bc[i,1] == 1:\n",
    "        maskv[2*bc[i,0]-2] = 1\n",
    "    elif bc[i,1] == 2:\n",
    "        maskv[2*bc[i,0]-1] = 1\n",
    "maskv = ma.masked_equal(maskv, 1)\n",
    "maskv = (maskv==False)"
   ]
  },
  {
   "cell_type": "markdown",
   "metadata": {},
   "source": [
    "#  Load vector"
   ]
  },
  {
   "cell_type": "code",
   "execution_count": 8,
   "metadata": {},
   "outputs": [],
   "source": [
    "#   F = [node | degree of freedom | value]\n",
    "#\n",
    "#   Degree of freedom 1 --> Fx\n",
    "#   Degree of freedom 2 --> Fy\n",
    "\n",
    "load = np.array([[2,2,-10e3]])\n",
    "\n",
    "f = np.zeros((2*nnos,1)) # global force vector pre-allocation\n",
    "\n",
    "for i in range(0,np.size(load,0)):\n",
    "    if load[i,1] == 1:\n",
    "        f[int(2*load[i,0]-2)] = load[i,2]\n",
    "    elif load[i,1] == 2:\n",
    "        f[int(2*load[i,0]-1)] = load[i,2]"
   ]
  },
  {
   "cell_type": "markdown",
   "metadata": {},
   "source": [
    "# Global matrix assembly"
   ]
  },
  {
   "cell_type": "code",
   "execution_count": 9,
   "metadata": {},
   "outputs": [],
   "source": [
    "kg = np.zeros((2*nnos,2*nnos)) # global stiffness matrix pre-allocation\n",
    "for i in range(0,nel):\n",
    "    node1 = inci[i,1] # first node element\n",
    "    node2 = inci[i,2] # second node element\n",
    "\n",
    "    x1 = coord[int(node1) - 1, 1]\n",
    "    x2 = coord[int(node2) - 1, 1]\n",
    "\n",
    "    y1 = coord[int(node1) - 1, 2]\n",
    "    y2 = coord[int(node2) - 1, 2]\n",
    "\n",
    "    l = np.sqrt((x2 - x1)**2 + (y2 - y1)**2)\n",
    "\n",
    "    if (x2-x1) ==0:\n",
    "        if y2 > y1:\n",
    "            theta = 2*np.arctan(1)\n",
    "        else:\n",
    "            theta =-2*np.arctan(1)\n",
    "    else:\n",
    "        theta = np.arctan((y2-y1)/(x2-x1))\n",
    "\n",
    "\n",
    "    c = np.cos(theta)\n",
    "    s = np.sin(theta)\n",
    "\n",
    "    # local stiffness matrix\n",
    "    ke = E*A/l*np.array([[c**2, c*s, -c**2, -c*s], [c*s, s**2, -c*s, -s**2], [-c**2, -c*s, c**2, c*s], [-c*s, -s**2, c*s, s**2]])\n",
    "\n",
    "    # localization vector\n",
    "    loc = [2*node1-2, 2*node1-1, 2*node2-2, 2*node2-1]\n",
    "\n",
    "    # global stiffness matrix\n",
    "    kg[[[int(loc[0])],[int(loc[1])],[int(loc[2])], [int(loc[3])]], [int(loc[0]),int(loc[1]),int(loc[2]),int(loc[3])]] = kg[[[int(loc[0])],[int(loc[1])],[int(loc[2])], [int(loc[3])]], [int(loc[0]),int(loc[1]),int(loc[2]),int(loc[3])]] +  ke\n",
    "    \n",
    "kg_aux = kg[mask.data]\n",
    "kg_aux = np.reshape(kg_aux, (2*nnos-np.size(bc,0), 2*nnos-np.size(bc,0)))\n",
    "f_aux  = f[maskv.data]"
   ]
  },
  {
   "cell_type": "markdown",
   "metadata": {},
   "source": [
    "# Displacement"
   ]
  },
  {
   "cell_type": "code",
   "execution_count": 11,
   "metadata": {},
   "outputs": [],
   "source": [
    "u = np.zeros((2*nnos, 1))\n",
    "u[maskv.data] = np.linalg.solve(kg_aux, f_aux)\n",
    "u_ = np.reshape(u,(nnos,2))\n",
    "displacement_x = u_[:,0]\n",
    "displacement_y = u_[:,1]"
   ]
  },
  {
   "cell_type": "code",
   "execution_count": 14,
   "metadata": {},
   "outputs": [
    {
     "name": "stdout",
     "output_type": "stream",
     "text": [
      "[[ 0.00e+00]\n",
      " [ 0.00e+00]\n",
      " [ 3.96e-20]\n",
      " [-2.80e-03]\n",
      " [ 0.00e+00]\n",
      " [ 0.00e+00]\n",
      " [-6.28e-20]\n",
      " [-2.31e-03]]\n"
     ]
    }
   ],
   "source": [
    "np.set_printoptions(precision=2)\n",
    "print(u)"
   ]
  },
  {
   "cell_type": "markdown",
   "metadata": {},
   "source": [
    "# Post-processing"
   ]
  },
  {
   "cell_type": "code",
   "execution_count": 15,
   "metadata": {},
   "outputs": [],
   "source": [
    "factor = 50\n",
    "new_coord = coord[:,1:3] + factor*u_"
   ]
  },
  {
   "cell_type": "code",
   "execution_count": 16,
   "metadata": {},
   "outputs": [
    {
     "data": {
      "image/png": "[encoded data removed]",
      "text/plain": [
       "<Figure size 864x504 with 1 Axes>"
      ]
     },
     "metadata": {
      "needs_background": "light"
     },
     "output_type": "display_data"
    }
   ],
   "source": [
    "fig, ax = plt.subplots(figsize = (12, 7))\n",
    "\n",
    "# original truss\n",
    "for i in range(0, np.size(inci,0)):\n",
    "    x1 = coord[int(inci[i,1]-1), 1]\n",
    "    x2 = coord[int(inci[i,2]-1), 1]\n",
    "    \n",
    "    y1 = coord[int(inci[i,1]-1), 2]\n",
    "    y2 = coord[int(inci[i,2]-1), 2]\n",
    "    \n",
    "    plt.plot([x1,x2], [y1,y2], 'bo-')\n",
    "    \n",
    "    s  = \"{}\".format(i+1)\n",
    "    plt.text((x1+x2)/2, (y1+y2)/2 + 0.05, s, fontsize = 15)\n",
    "\n",
    "# deformed truss\n",
    "for i in range(0, np.size(inci,0)):\n",
    "    x1 = new_coord[int(inci[i,1]-1), 0]\n",
    "    x2 = new_coord[int(inci[i,2]-1), 0]\n",
    "    \n",
    "    y1 = new_coord[int(inci[i,1]-1), 1]\n",
    "    y2 = new_coord[int(inci[i,2]-1), 1]\n",
    "    \n",
    "    plt.plot([x1,x2], [y1,y2], 'r--')    \n",
    "    \n",
    "# load applied\n",
    "for i in range(0, np.size(load,0)):\n",
    "    node = load[i,0]\n",
    "    X = coord[int(node - 1), 1]\n",
    "    Y = coord[int(node - 1), 2]\n",
    "    U = 0\n",
    "    V = 0\n",
    "    if load[i,1] == 1:\n",
    "        if load[i,2] > 0:\n",
    "            U = 1\n",
    "        else:\n",
    "            U = -1\n",
    "    elif load[i,1] == 2:\n",
    "        if load[i,2] > 0:\n",
    "            V = 1\n",
    "        else:\n",
    "            V = -1\n",
    "    ax.quiver(X, Y, U, V)\n",
    "    \n",
    "fig.savefig('fem1b.png',dpi=300)                              # salvar figura como png (dpi = número de pixels)\n",
    "\n",
    "plt.title('Treliça', fontsize = 20)\n",
    "plt.xlabel('Deslocamento horizontal', fontsize = 15)\n",
    "plt.ylabel('Deslocamento vertical', fontsize = 15)\n",
    "    \n",
    "plt.show()"
   ]
  },
  {
   "cell_type": "markdown",
   "metadata": {},
   "source": [
    "# Tensão"
   ]
  },
  {
   "cell_type": "code",
   "execution_count": 17,
   "metadata": {},
   "outputs": [
    {
     "name": "stdout",
     "output_type": "stream",
     "text": [
      "Normal force in element     1 =  4388.72 N.\n",
      "Normal force in element     2 =  4388.72 N.\n",
      "Normal force in element     3 =  7094.96 N.\n",
      "Normal force in element     4 =  7094.96 N.\n",
      "Normal force in element     5 =  7871.16 N.\n"
     ]
    }
   ],
   "source": [
    "stress = np.zeros((nel, 1))\n",
    "\n",
    "for i in range(0,nel):\n",
    "    node1 = inci[i,1] # first node element\n",
    "    node2 = inci[i,2] # second node element\n",
    "\n",
    "    x1 = coord[int(node1) - 1, 1]\n",
    "    x2 = coord[int(node2) - 1, 1]\n",
    "\n",
    "    y1 = coord[int(node1) - 1, 2]\n",
    "    y2 = coord[int(node2) - 1, 2]\n",
    "\n",
    "    l = np.sqrt((x2 - x1)**2 + (y2 - y1)**2)\n",
    "\n",
    "    if (x2-x1) ==0:\n",
    "        if y2 > y1:\n",
    "            theta = 2*np.arctan(1)\n",
    "        else:\n",
    "            theta =-2*np.arctan(1)\n",
    "    else:\n",
    "        theta = np.arctan((y2-y1)/(x2-x1))\n",
    "\n",
    "\n",
    "    c = np.cos(theta)\n",
    "    s = np.sin(theta)\n",
    "\n",
    "    # local stiffness matrix\n",
    "    ke = E*A/l*np.array([[c**2, c*s, -c**2, -c*s], [c*s, s**2, -c*s, -s**2], [-c**2, -c*s, c**2, c*s], [-c*s, -s**2, c*s, s**2]])\n",
    "\n",
    "    # localization vector\n",
    "    loc = [2*node1-2, 2*node1-1, 2*node2-2, 2*node2-1]\n",
    "\n",
    "    d = u[[int(loc[0]),int(loc[1]),int(loc[2]), int(loc[3])]]\n",
    "\n",
    "    elforce = np.matmul(ke,d)\n",
    "\n",
    "    stress[i] = np.sqrt(elforce[1]**2 + elforce[2]**2)/A\n",
    "    \n",
    "    force_element = np.sqrt(elforce[1]**2 + elforce[2]**2)\n",
    "    \n",
    "    print(\"Normal force in element {0:5d} = {1:8.2f} N.\".format(i + 1, force_element[0]))\n",
    "\n",
    "    if ((x2-x1)*elforce[3])<0:\n",
    "            stress[i]=-stress[i]"
   ]
  },
  {
   "cell_type": "markdown",
   "metadata": {},
   "source": [
    "# Reaction"
   ]
  },
  {
   "cell_type": "code",
   "execution_count": 18,
   "metadata": {},
   "outputs": [
    {
     "data": {
      "text/plain": [
       "array([[ 10161.05],\n",
       "       [  5000.  ],\n",
       "       [-10161.05],\n",
       "       [  5000.  ]])"
      ]
     },
     "execution_count": 18,
     "metadata": {},
     "output_type": "execute_result"
    }
   ],
   "source": [
    "F = np.matmul(kg,u)\n",
    "maskv = (maskv==False)\n",
    "F[maskv.mask]"
   ]
  },
  {
   "cell_type": "code",
   "execution_count": null,
   "metadata": {},
   "outputs": [],
   "source": []
  }
 ],
 "metadata": {
  "kernelspec": {
   "display_name": "Python 3",
   "language": "python",
   "name": "python3"
  },
  "language_info": {
   "codemirror_mode": {
    "name": "ipython",
    "version": 3
   },
   "file_extension": ".py",
   "mimetype": "text/x-python",
   "name": "python",
   "nbconvert_exporter": "python",
   "pygments_lexer": "ipython3",
   "version": "3.7.6"
  }
 },
 "nbformat": 4,
 "nbformat_minor": 4
}
