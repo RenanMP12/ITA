{
 "cells": [
  {
   "cell_type": "code",
   "execution_count": 10,
   "metadata": {},
   "outputs": [],
   "source": [
    "from sympy import *\n",
    "\n",
    "L, E, I, q, v2, theta2, theta3 = symbols('L E I q v2 theta2 theta3')\n",
    "\n",
    "kg = E*I/L**3*Matrix([[36, -6*L, -12],[-6*L, 12*L**2, -6*L],[6*L, 2*L**2, 4*L**2]])\n",
    "fg = Matrix([[q*L],[q*L**2/6],[0]])\n",
    "\n",
    "sol = linsolve((kg, fg), [v2, theta2, theta3])"
   ]
  },
  {
   "cell_type": "code",
   "execution_count": 11,
   "metadata": {},
   "outputs": [
    {
     "data": {
      "text/latex": [
       "$\\displaystyle \\left\\{\\left( \\frac{L^{4} q \\left(13 L + 2\\right)}{18 E I \\left(22 L + 23\\right)}, \\  \\frac{L^{3} q \\left(2 L - 1\\right)}{3 E I \\left(22 L + 23\\right)}, \\  - \\frac{17 L^{4} q}{12 E I \\left(22 L + 23\\right)}\\right)\\right\\}$"
      ],
      "text/plain": [
       "FiniteSet((L**4*q*(13*L + 2)/(18*E*I*(22*L + 23)), L**3*q*(2*L - 1)/(3*E*I*(22*L + 23)), -17*L**4*q/(12*E*I*(22*L + 23))))"
      ]
     },
     "execution_count": 11,
     "metadata": {},
     "output_type": "execute_result"
    }
   ],
   "source": [
    "sol"
   ]
  },
  {
   "cell_type": "code",
   "execution_count": null,
   "metadata": {},
   "outputs": [],
   "source": []
  }
 ],
 "metadata": {
  "kernelspec": {
   "display_name": "Python 3",
   "language": "python",
   "name": "python3"
  },
  "language_info": {
   "codemirror_mode": {
    "name": "ipython",
    "version": 3
   },
   "file_extension": ".py",
   "mimetype": "text/x-python",
   "name": "python",
   "nbconvert_exporter": "python",
   "pygments_lexer": "ipython3",
   "version": "3.7.6"
  }
 },
 "nbformat": 4,
 "nbformat_minor": 4
}
