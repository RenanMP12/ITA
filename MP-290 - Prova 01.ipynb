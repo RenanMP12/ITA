{
 "cells": [
  {
   "cell_type": "markdown",
   "metadata": {},
   "source": [
    "# Bibliotecas"
   ]
  },
  {
   "cell_type": "code",
   "execution_count": 2,
   "metadata": {},
   "outputs": [],
   "source": [
    "import numpy as np\n",
    "from numpy import linalg as LA\n",
    "from sympy import *\n",
    "from sympy.vector import CoordSys3D, divergence\n",
    "import matplotlib.pyplot as plt"
   ]
  },
  {
   "cell_type": "markdown",
   "metadata": {},
   "source": [
    "# Questão 05"
   ]
  },
  {
   "cell_type": "markdown",
   "metadata": {},
   "source": [
    "## Declaração de variáveis simbólicas"
   ]
  },
  {
   "cell_type": "code",
   "execution_count": 3,
   "metadata": {},
   "outputs": [],
   "source": [
    "x1, x2, x3, a, b, X1, X2, X3, t = symbols('x1 x2 x3 a b X1 X2 X3 t')"
   ]
  },
  {
   "cell_type": "markdown",
   "metadata": {},
   "source": [
    "## Declaração das velocidades"
   ]
  },
  {
   "cell_type": "code",
   "execution_count": 4,
   "metadata": {},
   "outputs": [],
   "source": [
    "v1 = a*x2*x3\n",
    "v2 =-a*x1*x3\n",
    "v3 = b*x3"
   ]
  },
  {
   "cell_type": "markdown",
   "metadata": {},
   "source": [
    "## Tensor gradiente de velocidade [L]"
   ]
  },
  {
   "cell_type": "code",
   "execution_count": 5,
   "metadata": {},
   "outputs": [
    {
     "data": {
      "text/latex": [
       "$\\displaystyle \\left[\\begin{matrix}0 & a x_{3} & a x_{2}\\\\- a x_{3} & 0 & - a x_{1}\\\\0 & 0 & b\\end{matrix}\\right]$"
      ],
      "text/plain": [
       "Matrix([\n",
       "[    0, a*x3,  a*x2],\n",
       "[-a*x3,    0, -a*x1],\n",
       "[    0,    0,     b]])"
      ]
     },
     "execution_count": 5,
     "metadata": {},
     "output_type": "execute_result"
    }
   ],
   "source": [
    "x = Matrix([[x1],[x2],[x3]])    # Ponto espacial\n",
    "v = Matrix([[v1],[v2],[v3]])    # Vetor velocidade\n",
    "L = Matrix([v]).jacobian(x)     # Tensor gradiente de deformação\n",
    "L"
   ]
  },
  {
   "cell_type": "markdown",
   "metadata": {},
   "source": [
    "## Tensor taxa de deformação [D]"
   ]
  },
  {
   "cell_type": "code",
   "execution_count": 6,
   "metadata": {},
   "outputs": [
    {
     "data": {
      "text/latex": [
       "$\\displaystyle \\left[\\begin{matrix}0 & 0 & \\frac{a x_{2}}{2}\\\\0 & 0 & - \\frac{a x_{1}}{2}\\\\\\frac{a x_{2}}{2} & - \\frac{a x_{1}}{2} & b\\end{matrix}\\right]$"
      ],
      "text/plain": [
       "Matrix([\n",
       "[     0,       0,  a*x2/2],\n",
       "[     0,       0, -a*x1/2],\n",
       "[a*x2/2, -a*x1/2,       b]])"
      ]
     },
     "execution_count": 6,
     "metadata": {},
     "output_type": "execute_result"
    }
   ],
   "source": [
    "D = (L + transpose(L))/2\n",
    "D"
   ]
  },
  {
   "cell_type": "markdown",
   "metadata": {},
   "source": [
    "## Tensor taxa de rotação [W]"
   ]
  },
  {
   "cell_type": "code",
   "execution_count": 7,
   "metadata": {},
   "outputs": [
    {
     "data": {
      "text/latex": [
       "$\\displaystyle \\left[\\begin{matrix}0 & a x_{3} & \\frac{a x_{2}}{2}\\\\- a x_{3} & 0 & - \\frac{a x_{1}}{2}\\\\- \\frac{a x_{2}}{2} & \\frac{a x_{1}}{2} & 0\\end{matrix}\\right]$"
      ],
      "text/plain": [
       "Matrix([\n",
       "[      0,   a*x3,  a*x2/2],\n",
       "[  -a*x3,      0, -a*x1/2],\n",
       "[-a*x2/2, a*x1/2,       0]])"
      ]
     },
     "execution_count": 7,
     "metadata": {},
     "output_type": "execute_result"
    }
   ],
   "source": [
    "W = (L - transpose(L))/2\n",
    "W"
   ]
  },
  {
   "cell_type": "markdown",
   "metadata": {},
   "source": [
    "## Vetor axial"
   ]
  },
  {
   "cell_type": "code",
   "execution_count": 8,
   "metadata": {},
   "outputs": [
    {
     "data": {
      "text/latex": [
       "$\\displaystyle (\\frac{a x_{1}}{2})\\mathbf{\\hat{i}_{e}} + (\\frac{a x_{2}}{2})\\mathbf{\\hat{j}_{e}} + (- \\frac{a x_{2}}{2})\\mathbf{\\hat{k}_{e}}$"
      ],
      "text/plain": [
       "a*x1/2*e.i + a*x2/2*e.j + (-a*x2/2)*e.k"
      ]
     },
     "execution_count": 8,
     "metadata": {},
     "output_type": "execute_result"
    }
   ],
   "source": [
    "e = CoordSys3D('e')\n",
    "omega = -(W[5]*e.i + W[6]*e.j + W[2]*e.k) # eq (3.14.2) pg 98 Krempl\n",
    "omega"
   ]
  },
  {
   "cell_type": "markdown",
   "metadata": {},
   "source": [
    "## Movimento isocórico"
   ]
  },
  {
   "cell_type": "code",
   "execution_count": 9,
   "metadata": {},
   "outputs": [
    {
     "data": {
      "text/latex": [
       "$\\displaystyle 0$"
      ],
      "text/plain": [
       "0"
      ]
     },
     "execution_count": 9,
     "metadata": {},
     "output_type": "execute_result"
    }
   ],
   "source": [
    "iso = Trace(L).simplify()\n",
    "b = solve(iso, b)[0]\n",
    "b"
   ]
  },
  {
   "cell_type": "markdown",
   "metadata": {},
   "source": [
    "## Movimento irrotacional"
   ]
  },
  {
   "cell_type": "code",
   "execution_count": 10,
   "metadata": {},
   "outputs": [],
   "source": [
    "# o movimento é dito irrotacional se o tensor taxa de rotação é nulo, logo \"a\" = 0"
   ]
  },
  {
   "cell_type": "markdown",
   "metadata": {},
   "source": [
    "# Questão 4"
   ]
  },
  {
   "cell_type": "markdown",
   "metadata": {},
   "source": [
    "## Declaração da função movimento"
   ]
  },
  {
   "cell_type": "code",
   "execution_count": 11,
   "metadata": {},
   "outputs": [],
   "source": [
    "x1 = X1 + t**2*X2\n",
    "x2 = X2 + t**2*X1\n",
    "x3 = X3"
   ]
  },
  {
   "cell_type": "markdown",
   "metadata": {},
   "source": [
    "# Determinar as componentes do tensor gradiente de deformação [F]"
   ]
  },
  {
   "cell_type": "code",
   "execution_count": 12,
   "metadata": {},
   "outputs": [
    {
     "data": {
      "text/latex": [
       "$\\displaystyle \\left[\\begin{matrix}1 & t^{2} & 0\\\\t^{2} & 1 & 0\\\\0 & 0 & 1\\end{matrix}\\right]$"
      ],
      "text/plain": [
       "Matrix([\n",
       "[   1, t**2, 0],\n",
       "[t**2,    1, 0],\n",
       "[   0,    0, 1]])"
      ]
     },
     "execution_count": 12,
     "metadata": {},
     "output_type": "execute_result"
    }
   ],
   "source": [
    "X = Matrix([[X1],[X2],[X3]])    # Ponto material\n",
    "x = Matrix([[x1],[x2],[x3]])    # Ponto espacial correspondente\n",
    "F = Matrix([x]).jacobian(X)     # Tensor gradiente de deformação\n",
    "F"
   ]
  },
  {
   "cell_type": "markdown",
   "metadata": {},
   "source": [
    "## Vetor velocidade"
   ]
  },
  {
   "cell_type": "code",
   "execution_count": 13,
   "metadata": {},
   "outputs": [
    {
     "data": {
      "text/latex": [
       "$\\displaystyle 2 X_{2} t$"
      ],
      "text/plain": [
       "2*X2*t"
      ]
     },
     "execution_count": 13,
     "metadata": {},
     "output_type": "execute_result"
    }
   ],
   "source": [
    "v1 = diff(x1,t) \n",
    "v1"
   ]
  },
  {
   "cell_type": "code",
   "execution_count": 14,
   "metadata": {},
   "outputs": [
    {
     "data": {
      "text/latex": [
       "$\\displaystyle 2 X_{1} t$"
      ],
      "text/plain": [
       "2*X1*t"
      ]
     },
     "execution_count": 14,
     "metadata": {},
     "output_type": "execute_result"
    }
   ],
   "source": [
    "v2 = diff(x2,t) \n",
    "v2"
   ]
  },
  {
   "cell_type": "markdown",
   "metadata": {},
   "source": [
    "## Vetor aceleração"
   ]
  },
  {
   "cell_type": "code",
   "execution_count": 15,
   "metadata": {},
   "outputs": [
    {
     "data": {
      "text/latex": [
       "$\\displaystyle 4 X_{1} t^{2} + 2 X_{2}$"
      ],
      "text/plain": [
       "4*X1*t**2 + 2*X2"
      ]
     },
     "execution_count": 15,
     "metadata": {},
     "output_type": "execute_result"
    }
   ],
   "source": [
    "a1 = diff(v1,t) + diff(v1,X1)*v1 + diff(v1,X2)*v2\n",
    "a1"
   ]
  },
  {
   "cell_type": "code",
   "execution_count": 16,
   "metadata": {},
   "outputs": [
    {
     "data": {
      "text/latex": [
       "$\\displaystyle 2 X_{1} + 4 X_{2} t^{2}$"
      ],
      "text/plain": [
       "2*X1 + 4*X2*t**2"
      ]
     },
     "execution_count": 16,
     "metadata": {},
     "output_type": "execute_result"
    }
   ],
   "source": [
    "a2 = diff(v2,t) + diff(v2,X1)*v1 + diff(v2,X2)*v2\n",
    "a2"
   ]
  },
  {
   "cell_type": "markdown",
   "metadata": {},
   "source": [
    "## Posição material"
   ]
  },
  {
   "cell_type": "code",
   "execution_count": 17,
   "metadata": {},
   "outputs": [
    {
     "data": {
      "text/plain": [
       "[{X1: 1, X2: 2, X3: 1}]"
      ]
     },
     "execution_count": 17,
     "metadata": {},
     "output_type": "execute_result"
    }
   ],
   "source": [
    "solve([X1 + 4*X2 - 9, 4*X1 + X2 - 6, X3-1], dict=True)"
   ]
  },
  {
   "cell_type": "markdown",
   "metadata": {},
   "source": [
    "## Posição material 2"
   ]
  },
  {
   "cell_type": "code",
   "execution_count": 18,
   "metadata": {},
   "outputs": [],
   "source": [
    "sol = solve([X1 + 9*X2 - 2, 9*X1 + X2 - 3, X3-1], dict=True)"
   ]
  },
  {
   "cell_type": "markdown",
   "metadata": {},
   "source": [
    "### Posição espacial"
   ]
  },
  {
   "cell_type": "code",
   "execution_count": 19,
   "metadata": {},
   "outputs": [
    {
     "data": {
      "text/latex": [
       "$\\displaystyle \\frac{17}{16}$"
      ],
      "text/plain": [
       "17/16"
      ]
     },
     "execution_count": 19,
     "metadata": {},
     "output_type": "execute_result"
    }
   ],
   "source": [
    "x1.subs({t:2, X1: sol[0][X1], X2: sol[0][X2]})"
   ]
  },
  {
   "cell_type": "code",
   "execution_count": 20,
   "metadata": {},
   "outputs": [
    {
     "data": {
      "text/latex": [
       "$\\displaystyle \\frac{23}{16}$"
      ],
      "text/plain": [
       "23/16"
      ]
     },
     "execution_count": 20,
     "metadata": {},
     "output_type": "execute_result"
    }
   ],
   "source": [
    "x2.subs({t:2, X1: sol[0][X1], X2: sol[0][X2]})"
   ]
  },
  {
   "cell_type": "markdown",
   "metadata": {},
   "source": [
    "## Tensor de Cauchy à direita [C]"
   ]
  },
  {
   "cell_type": "code",
   "execution_count": 21,
   "metadata": {},
   "outputs": [
    {
     "data": {
      "text/latex": [
       "$\\displaystyle \\left[\\begin{matrix}t^{4} + 1 & 2 t^{2} & 0\\\\2 t^{2} & t^{4} + 1 & 0\\\\0 & 0 & 1\\end{matrix}\\right]$"
      ],
      "text/plain": [
       "Matrix([\n",
       "[t**4 + 1,   2*t**2, 0],\n",
       "[  2*t**2, t**4 + 1, 0],\n",
       "[       0,        0, 1]])"
      ]
     },
     "execution_count": 21,
     "metadata": {},
     "output_type": "execute_result"
    }
   ],
   "source": [
    "C = transpose(F)*F\n",
    "C"
   ]
  },
  {
   "cell_type": "markdown",
   "metadata": {},
   "source": [
    "## Tensor de Cauchy à esquerda [B]"
   ]
  },
  {
   "cell_type": "code",
   "execution_count": 22,
   "metadata": {},
   "outputs": [
    {
     "data": {
      "text/latex": [
       "$\\displaystyle \\left[\\begin{matrix}t^{4} + 1 & 2 t^{2} & 0\\\\2 t^{2} & t^{4} + 1 & 0\\\\0 & 0 & 1\\end{matrix}\\right]$"
      ],
      "text/plain": [
       "Matrix([\n",
       "[t**4 + 1,   2*t**2, 0],\n",
       "[  2*t**2, t**4 + 1, 0],\n",
       "[       0,        0, 1]])"
      ]
     },
     "execution_count": 22,
     "metadata": {},
     "output_type": "execute_result"
    }
   ],
   "source": [
    "B = F*transpose(F)\n",
    "B"
   ]
  },
  {
   "cell_type": "markdown",
   "metadata": {},
   "source": [
    "## Tensor de Green St. Venant"
   ]
  },
  {
   "cell_type": "code",
   "execution_count": 23,
   "metadata": {},
   "outputs": [
    {
     "data": {
      "text/latex": [
       "$\\displaystyle \\left[\\begin{matrix}\\frac{t^{4}}{2} & t^{2} & 0\\\\t^{2} & \\frac{t^{4}}{2} & 0\\\\0 & 0 & 0\\end{matrix}\\right]$"
      ],
      "text/plain": [
       "Matrix([\n",
       "[t**4/2,   t**2, 0],\n",
       "[  t**2, t**4/2, 0],\n",
       "[     0,      0, 0]])"
      ]
     },
     "execution_count": 23,
     "metadata": {},
     "output_type": "execute_result"
    }
   ],
   "source": [
    "E = (C- eye(3))/2\n",
    "E"
   ]
  },
  {
   "cell_type": "markdown",
   "metadata": {},
   "source": [
    "## Tensor de Euler-Almansi"
   ]
  },
  {
   "cell_type": "code",
   "execution_count": 24,
   "metadata": {},
   "outputs": [
    {
     "data": {
      "text/latex": [
       "$\\displaystyle \\left[\\begin{matrix}\\frac{1}{2} - \\frac{t^{4} + 1}{2 \\left(- 4 t^{4} + \\left(t^{4} + 1\\right)^{2}\\right)} & \\frac{t^{2}}{- 4 t^{4} + \\left(t^{4} + 1\\right)^{2}} & 0\\\\\\frac{t^{2}}{- 4 t^{4} + \\left(t^{4} + 1\\right)^{2}} & \\frac{1}{2} - \\frac{t^{4} + 1}{2 \\left(- 4 t^{4} + \\left(t^{4} + 1\\right)^{2}\\right)} & 0\\\\0 & 0 & 0\\end{matrix}\\right]$"
      ],
      "text/plain": [
       "Matrix([\n",
       "[1/2 - (t**4 + 1)/(2*(-4*t**4 + (t**4 + 1)**2)),                 t**2/(-4*t**4 + (t**4 + 1)**2), 0],\n",
       "[                t**2/(-4*t**4 + (t**4 + 1)**2), 1/2 - (t**4 + 1)/(2*(-4*t**4 + (t**4 + 1)**2)), 0],\n",
       "[                                             0,                                              0, 0]])"
      ]
     },
     "execution_count": 24,
     "metadata": {},
     "output_type": "execute_result"
    }
   ],
   "source": [
    "e = (eye(3)- B**-1)/2\n",
    "e"
   ]
  },
  {
   "cell_type": "markdown",
   "metadata": {},
   "source": [
    "## Tensor de alongamento à direita"
   ]
  },
  {
   "cell_type": "code",
   "execution_count": 25,
   "metadata": {},
   "outputs": [],
   "source": [
    "val = C.eigenvals()\n",
    "vec = C.eigenvects()"
   ]
  },
  {
   "cell_type": "markdown",
   "metadata": {},
   "source": [
    "# Questão 3"
   ]
  },
  {
   "cell_type": "markdown",
   "metadata": {},
   "source": [
    "## Declaração da função movimento"
   ]
  },
  {
   "cell_type": "code",
   "execution_count": 26,
   "metadata": {},
   "outputs": [],
   "source": [
    "x1 = (1 + exp(a*t))*X1\n",
    "x2 = (1 + exp(-2*a*t))*X2\n",
    "x3 = X3"
   ]
  },
  {
   "cell_type": "markdown",
   "metadata": {},
   "source": [
    "## Tensor gradiente de deformação [F]"
   ]
  },
  {
   "cell_type": "code",
   "execution_count": 27,
   "metadata": {},
   "outputs": [
    {
     "data": {
      "text/latex": [
       "$\\displaystyle \\left[\\begin{matrix}e^{a t} + 1 & 0 & 0\\\\0 & 1 + e^{- 2 a t} & 0\\\\0 & 0 & 1\\end{matrix}\\right]$"
      ],
      "text/plain": [
       "Matrix([\n",
       "[exp(a*t) + 1,               0, 0],\n",
       "[           0, 1 + exp(-2*a*t), 0],\n",
       "[           0,               0, 1]])"
      ]
     },
     "execution_count": 27,
     "metadata": {},
     "output_type": "execute_result"
    }
   ],
   "source": [
    "X = Matrix([[X1],[X2],[X3]])    # Ponto material\n",
    "x = Matrix([[x1],[x2],[x3]])    # Ponto espacial correspondente\n",
    "F = Matrix([x]).jacobian(X)     # Tensor gradiente de deformação\n",
    "F"
   ]
  },
  {
   "cell_type": "markdown",
   "metadata": {},
   "source": [
    "## Tensor gradiente de deformação [F] da função inversa"
   ]
  },
  {
   "cell_type": "code",
   "execution_count": 28,
   "metadata": {},
   "outputs": [
    {
     "data": {
      "text/latex": [
       "$\\displaystyle \\left[\\begin{matrix}\\frac{1}{e^{a t} + 1} & 0 & 0\\\\0 & \\frac{1}{1 + e^{- 2 a t}} & 0\\\\0 & 0 & 1\\end{matrix}\\right]$"
      ],
      "text/plain": [
       "Matrix([\n",
       "[1/(exp(a*t) + 1),                   0, 0],\n",
       "[               0, 1/(1 + exp(-2*a*t)), 0],\n",
       "[               0,                   0, 1]])"
      ]
     },
     "execution_count": 28,
     "metadata": {},
     "output_type": "execute_result"
    }
   ],
   "source": [
    "F**-1"
   ]
  },
  {
   "cell_type": "markdown",
   "metadata": {},
   "source": [
    "## Jacobiano"
   ]
  },
  {
   "cell_type": "code",
   "execution_count": 29,
   "metadata": {},
   "outputs": [
    {
     "data": {
      "text/latex": [
       "$\\displaystyle \\left(1 + e^{- 2 a t}\\right) \\left(e^{a t} + 1\\right)$"
      ],
      "text/plain": [
       "(1 + exp(-2*a*t))*(exp(a*t) + 1)"
      ]
     },
     "execution_count": 29,
     "metadata": {},
     "output_type": "execute_result"
    }
   ],
   "source": [
    "F.det()"
   ]
  },
  {
   "cell_type": "markdown",
   "metadata": {},
   "source": [
    "## Vetor velocidade (material)"
   ]
  },
  {
   "cell_type": "code",
   "execution_count": 30,
   "metadata": {},
   "outputs": [
    {
     "data": {
      "text/latex": [
       "$\\displaystyle \\left[\\begin{matrix}X_{1} a e^{a t}\\\\- 2 X_{2} a e^{- 2 a t}\\\\0\\end{matrix}\\right]$"
      ],
      "text/plain": [
       "Matrix([\n",
       "[      X1*a*exp(a*t)],\n",
       "[-2*X2*a*exp(-2*a*t)],\n",
       "[                  0]])"
      ]
     },
     "execution_count": 30,
     "metadata": {},
     "output_type": "execute_result"
    }
   ],
   "source": [
    "v = diff(x,t)\n",
    "v"
   ]
  },
  {
   "cell_type": "markdown",
   "metadata": {},
   "source": [
    "## Vetor velocidade (espacial)"
   ]
  },
  {
   "cell_type": "code",
   "execution_count": 31,
   "metadata": {},
   "outputs": [
    {
     "data": {
      "text/latex": [
       "$\\displaystyle \\left[\\begin{matrix}\\frac{a x_{1} e^{a t}}{e^{a t} + 1}\\\\- \\frac{2 a x_{2} e^{- 2 a t}}{1 + e^{- 2 a t}}\\\\0\\end{matrix}\\right]$"
      ],
      "text/plain": [
       "Matrix([\n",
       "[         a*x1*exp(a*t)/(exp(a*t) + 1)],\n",
       "[-2*a*x2*exp(-2*a*t)/(1 + exp(-2*a*t))],\n",
       "[                                    0]])"
      ]
     },
     "execution_count": 31,
     "metadata": {},
     "output_type": "execute_result"
    }
   ],
   "source": [
    "x1, x2, x3, a, b, X1, X2, X3, t = symbols('x1 x2 x3 a b X1 X2 X3 t')\n",
    "X1_ = x1/(1 + exp(a*t))\n",
    "X2_ = x2/(1 + exp(-2*a*t))\n",
    "v_e = v.subs({X1: X1_, X2: X2_})\n",
    "v_e"
   ]
  },
  {
   "cell_type": "markdown",
   "metadata": {},
   "source": [
    "## Vetor aceleração (espacial)"
   ]
  },
  {
   "cell_type": "code",
   "execution_count": 32,
   "metadata": {},
   "outputs": [
    {
     "data": {
      "text/latex": [
       "$\\displaystyle \\frac{a^{2} x_{1} e^{a t}}{e^{a t} + 1}$"
      ],
      "text/plain": [
       "a**2*x1*exp(a*t)/(exp(a*t) + 1)"
      ]
     },
     "execution_count": 32,
     "metadata": {},
     "output_type": "execute_result"
    }
   ],
   "source": [
    "a1_e = diff(v_e[0],t) + diff(v_e[0],x1)*v_e[0] + diff(v_e[0],x2)*v_e[1]\n",
    "a1_e"
   ]
  },
  {
   "cell_type": "code",
   "execution_count": 33,
   "metadata": {},
   "outputs": [
    {
     "data": {
      "text/latex": [
       "$\\displaystyle \\frac{4 a^{2} x_{2} e^{- 2 a t}}{1 + e^{- 2 a t}}$"
      ],
      "text/plain": [
       "4*a**2*x2*exp(-2*a*t)/(1 + exp(-2*a*t))"
      ]
     },
     "execution_count": 33,
     "metadata": {},
     "output_type": "execute_result"
    }
   ],
   "source": [
    "a2_e = diff(v_e[1],t) + diff(v_e[1],x1)*v_e[0] + diff(v_e[1],x2)*v_e[1]\n",
    "a2_e"
   ]
  },
  {
   "cell_type": "code",
   "execution_count": 34,
   "metadata": {},
   "outputs": [
    {
     "data": {
      "text/latex": [
       "$\\displaystyle \\left[\\begin{matrix}\\frac{a^{2} x_{1} e^{a t}}{e^{a t} + 1}\\\\\\frac{4 a^{2} x_{2} e^{- 2 a t}}{1 + e^{- 2 a t}}\\\\0\\end{matrix}\\right]$"
      ],
      "text/plain": [
       "Matrix([\n",
       "[        a**2*x1*exp(a*t)/(exp(a*t) + 1)],\n",
       "[4*a**2*x2*exp(-2*a*t)/(1 + exp(-2*a*t))],\n",
       "[                                      0]])"
      ]
     },
     "execution_count": 34,
     "metadata": {},
     "output_type": "execute_result"
    }
   ],
   "source": [
    "a_e = Matrix([[a1_e],[a2_e],[0]])\n",
    "a_e"
   ]
  },
  {
   "cell_type": "markdown",
   "metadata": {},
   "source": [
    "## Vetor aceleração material"
   ]
  },
  {
   "cell_type": "code",
   "execution_count": 35,
   "metadata": {},
   "outputs": [
    {
     "data": {
      "text/latex": [
       "$\\displaystyle \\left[\\begin{matrix}X_{1} a^{2} e^{a t}\\\\4 X_{2} a^{2} e^{- 2 a t}\\\\0\\end{matrix}\\right]$"
      ],
      "text/plain": [
       "Matrix([\n",
       "[     X1*a**2*exp(a*t)],\n",
       "[4*X2*a**2*exp(-2*a*t)],\n",
       "[                    0]])"
      ]
     },
     "execution_count": 35,
     "metadata": {},
     "output_type": "execute_result"
    }
   ],
   "source": [
    "a_m = diff(v,t)\n",
    "a_m"
   ]
  },
  {
   "cell_type": "code",
   "execution_count": 36,
   "metadata": {},
   "outputs": [
    {
     "data": {
      "text/latex": [
       "$\\displaystyle \\left[\\begin{matrix}\\frac{a^{2} x_{1} e^{a t}}{e^{a t} + 1}\\\\\\frac{4 a^{2} x_{2} e^{- 2 a t}}{1 + e^{- 2 a t}}\\\\0\\end{matrix}\\right]$"
      ],
      "text/plain": [
       "Matrix([\n",
       "[        a**2*x1*exp(a*t)/(exp(a*t) + 1)],\n",
       "[4*a**2*x2*exp(-2*a*t)/(1 + exp(-2*a*t))],\n",
       "[                                      0]])"
      ]
     },
     "execution_count": 36,
     "metadata": {},
     "output_type": "execute_result"
    }
   ],
   "source": [
    "F_ = F**-1\n",
    "a = a_m.subs({X1: F_[0]*x1, X2: F_[4]*x2})\n",
    "a"
   ]
  },
  {
   "cell_type": "code",
   "execution_count": null,
   "metadata": {},
   "outputs": [],
   "source": []
  }
 ],
 "metadata": {
  "kernelspec": {
   "display_name": "Python 3",
   "language": "python",
   "name": "python3"
  },
  "language_info": {
   "codemirror_mode": {
    "name": "ipython",
    "version": 3
   },
   "file_extension": ".py",
   "mimetype": "text/x-python",
   "name": "python",
   "nbconvert_exporter": "python",
   "pygments_lexer": "ipython3",
   "version": "3.7.6"
  }
 },
 "nbformat": 4,
 "nbformat_minor": 4
}
